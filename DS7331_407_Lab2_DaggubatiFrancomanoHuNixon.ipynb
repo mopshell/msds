{
 "cells": [
  {
   "cell_type": "markdown",
   "metadata": {},
   "source": [
    "# MSDS 7331 Data Mining Lab2 Assignment\n",
    "**Team: Sita Daggubati, Chaoshun Hu, Quinton Nixon and Anne Francomano**\n",
    "\n",
    "- For the Lab 2 assignment we used the New York City crimes data located at NYC Open Data ( https://data.cityofnewyork.us/Public-Safety/NYPD-Complaint-Data-Historic/qgea-i56i/data ).\n",
    "- The dataset tracks all reported crimes during the period 2016-2017 for the five NYC boroughs. \n",
    "- This dataset has additional attributes, such as Victim Age and Gender, which were evaluated for our assignment. \n",
    "\n",
    "- In Lab 2 we will: \n",
    "    - (1) Predict if the severity of the crime is a Felony or is not a Felony  \n",
    "    - (2) Predict whether the victim of the crime is Female or is not Female "
   ]
  },
  {
   "cell_type": "markdown",
   "metadata": {},
   "source": [
    "<a id=\"top\"></a>\n",
    "# Lab 2 Contents:\n",
    "This analysis report is comprised of the following sections:\n",
    "\n",
    "\n",
    "* <a href=\"#Data_Preparation_Part_1\"> Data_Preparation_Part_1</a>\n",
    "* <a href=\"#Data_Preparation_Part_2\"> Data_Preparation_Part_2</a>\n",
    "* <a href=\"#Modeling_and_Evaluation_1\">Modeling_and_Evaluation_1</a>\n",
    "* <a href=\"#Modeling_and_Evaluation_2\">Modeling_and_Evaluation_2</a>\n",
    "* <a href=\"#Modeling_and_Evaluation_3\">Modeling_and_Evaluation_3</a>\n",
    "* <a href=\"#Modeling_and_Evaluation_4\">Modeling_and_Evaluation_4</a>\n",
    "* <a href=\"#Modeling_and_Evaluation_5\">Modeling_and_Evaluation_5</a>\n",
    "* <a href=\"#Modeling_and_Evaluation_6\">Modeling_and_Evaluation_6</a>\n",
    "* <a href=\"#Deployment\">Deployment</a>\n",
    "* <a href=\"#Exceptional_Work\">Exceptional_Work</a>\n",
    "* <a href=\"#References\">References</a>\n",
    "\n",
    "________________________________________________________________________________________________________\n",
    "<a id=\"Imports\"></a>\n",
    "\n"
   ]
  },
  {
   "cell_type": "markdown",
   "metadata": {},
   "source": [
    "<a id=\"# Data_Preparation_Part_1\"></a>\n",
    "\n",
    "<a href=\"#top\">Back to Top</a>\n",
    "\n",
    "### Data_Preparation_Part_1\n",
    "\n",
    "The file \"NYPD_Complaint_Data_Historic_2016_2017_U.csv\" was created based on data downloaded from NYC Open Data portal at https://data.cityofnewyork.us/Public-Safety/NYPD-Complaint-Data-Historic/qgea-i56i/data , using the following filters and resulted in a core dataset of approximately 900K records:\n",
    "- Year of Complaint Date is only 2016 or 2017 (CMPLNT_FR_DT)\n",
    "- Complaint Date is not null (CMPLNT_FR_DT)\n",
    "- Borough Name is not null (BORO_NM)\n",
    "- Complaint Severity Level is not null (LAW_CAT_CD)  (used for Task 1 predicting if crime severity level is felony or non-felony) \n",
    "- Victim Sex is not null  (VIC_SEX)  (used for Task 2 predicting if crime victim is female or not) \n",
    "\n",
    "\n",
    "\n",
    "At the start of the data preparation tasks here in Part 1 (below), please note the following:\n",
    "- After choosing 30K random records from the large core dataset, we then filter the set where victim gender is M or F. \n",
    "    - The resulting data set is used for Both Task 1 and Task 2 predictions.\n",
    "    - There was a large number of records where gender was D or E, and we were unable to ascertain if these were typos or held a particular meaning. The use of D and E did not seem to be associated with any particular time range in the dataset, but did seem to be used when other victim related information such as vicitim race or age were also unknown. In addition, the use of D and E did not seem to be affiliated with any particular type of crime.\n",
    "    - Using  only the records where victim gender is Female or Male potentially introduces bias into the modeling at hand.\n"
   ]
  },
  {
   "cell_type": "markdown",
   "metadata": {},
   "source": [
    "### Dataset Downloaded from NYC Portal Used for Lab 2     [with additional attributes not used in lab1 & minilab] ###"
   ]
  },
  {
   "cell_type": "markdown",
   "metadata": {},
   "source": [
    "The downloaded \"NYPD_Complaint_Data_Historic_2016_2017_U.csv\" data file data set is comprised of the following 35 attributes:\n",
    "\n",
    "<table>\n",
    "<tr><th style=\"text-align: center;\">ATTRIBUTE NAME</th><th style=\"text-align: center;\">DATA TYPE</th><th style=\"text-align: center;\">DESCRIPTION</th></tr>\n",
    "\n",
    "<tr><th style=\"text-align: left;\">CMPLNT_NUM</th>\n",
    "    <td style=\"text-align: left;\"> Integer</td>\n",
    "    <td style=\"text-align: left;\">Randomly generated persistent, unique ID for each complaint</td>\n",
    "</tr>\n",
    "\n",
    "<tr><th style=\"text-align: left;\">CMPLNT_FR_DT</th>\n",
    "    <td style=\"text-align: left;\"> String</td>\n",
    "    <td style=\"text-align: left;\">Exact date of occurrence for the reported event (or starting date of occurrence, if CMPLNT_TO_DT exists)</td>\n",
    "</tr>\n",
    "\n",
    "<tr><th style=\"text-align: left;\">CMPLNT_FR_TM</th>\n",
    "    <td style=\"text-align: left;\"> String</td>\n",
    "    <td style=\"text-align: left;\">Exact time of occurrence for the reported event (or starting time of occurrence, if CMPLNT_TO_TM exists)</td>\n",
    "</tr>\n",
    "\n",
    "<tr><th style=\"text-align: left;\">CMPLNT_TO_DT</th>\n",
    "    <td style=\"text-align: left;\"> String</td>\n",
    "    <td style=\"text-align: left;\">Ending date of occurrence for the reported event, if exact time of occurrence is unknown</td>\n",
    "</tr>\n",
    "\n",
    "<tr><th style=\"text-align: left;\">CMPLNT_TO_TM</th>\n",
    "    <td style=\"text-align: left;\"> String</td>\n",
    "    <td style=\"text-align: left;\"> Ending time of occurrence for the reported event, if exact time of occurrence is unknown</td>\n",
    "</tr>\n",
    "\n",
    "<tr><th style=\"text-align: left;\">RPT_DT</th>\n",
    "    <td style=\"text-align: left;\"> String</td>\n",
    "    <td style=\"text-align: left;\"> Date event was reported to police</td>\n",
    "</tr>\n",
    "\n",
    "<tr><th style=\"text-align: left;\">KY_CD</th>\n",
    "    <td style=\"text-align: left;\"> Integer</td>\n",
    "    <td style=\"text-align: left;\"> Three-digit offense classification code</td>\n",
    "</tr>\n",
    "\n",
    "\n",
    "<tr><th style=\"text-align: left;\">OFNS_DESC</th>\n",
    "    <td style=\"text-align: left;\"> Nominal</td>\n",
    "    <td style=\"text-align: left;\"> Description of offense corresponding with key code in KY_CD</td>\n",
    "</tr>\n",
    "\n",
    "\n",
    "<tr><th style=\"text-align: left;\">PD_CD</th>\n",
    "    <td style=\"text-align: left;\"> Nominal</td>\n",
    "    <td style=\"text-align: left;\"> Three-digit internal classification code (more granular than Key Code in KY_CD)</td>\n",
    "</tr>\n",
    "\n",
    "\n",
    "<tr><th style=\"text-align: left;\">PD_DESC</th>\n",
    "    <td style=\"text-align: left;\"> Nominal</td>\n",
    "    <td style=\"text-align: left;\"> Description of internal classification corresponding with PD code (more granular than Offense Description in OFNS_DESC)</td>\n",
    "</tr>\n",
    "\n",
    "<tr><th style=\"text-align: left;\">CRM_ATPT_CPTD_CD</th>\n",
    "    <td style=\"text-align: left;\"> Nominal</td>\n",
    "    <td style=\"text-align: left;\"> Indicator of whether crime was successfully completed or attempted, but failed or was interrupted prematurely</td>\n",
    "</tr>\n",
    "\n",
    "<tr><th style=\"text-align: left;\">LAW_CAT_CD</th>\n",
    "    <td style=\"text-align: left;\"> Nominal</td>\n",
    "    <td style=\"text-align: left;\"> Level of offense: felony, misdemeanor, violation</td>\n",
    "</tr>\n",
    "\n",
    "<tr><th style=\"text-align: left;\">JURIS_DESC</th>\n",
    "    <td style=\"text-align: left;\"> Nominal</td>\n",
    "    <td style=\"text-align: left;\"> Jurisdiction responsible for incident. Either internal, like Police, Transit, and Housing; or external, like Correction, Port Authority, etc.</td>\n",
    "</tr>\n",
    "\n",
    "<tr><th style=\"text-align: left;\">BORO_NM</th>\n",
    "    <td style=\"text-align: left;\"> Nominal</td>\n",
    "    <td style=\"text-align: left;\"> The name of the borough in which the incident occurred</td>\n",
    "</tr>\n",
    "\n",
    "<tr><th style=\"text-align: left;\">ADDR_PCT_CD</th>\n",
    "    <td style=\"text-align: left;\"> Nominal</td>\n",
    "    <td style=\"text-align: left;\"> The designated number for the New York City police precinct in which the incident occurred</td>\n",
    "</tr>\n",
    "\n",
    "<tr><th style=\"text-align: left;\">LOC_OF_OCCUR_DESC</th>\n",
    "    <td style=\"text-align: left;\"> Nominal</td>\n",
    "    <td style=\"text-align: left;\"> Specific location of occurrence in or around the premises; inside, opposite of, front of, rear of</td>\n",
    "</tr>\n",
    "<tr><th style=\"text-align: left;\">PREM_TYP_DESC</th>\n",
    "    <td style=\"text-align: left;\"> Nominal</td>\n",
    "    <td style=\"text-align: left;\"> Specific description of premises; grocery store, residence, street, etc.</td>\n",
    "</tr>\n",
    "<tr><th style=\"text-align: left;\">PARKS_NM</th>\n",
    "    <td style=\"text-align: left;\"> Nominal</td>\n",
    "    <td style=\"text-align: left;\"> Name of the New York City park, playground or green space where the complaint occurred, if applicable.  New York State Parks are Not included.</td>\n",
    "</tr>\n",
    "<tr><th style=\"text-align: left;\">HADEVELOPT</th>\n",
    "    <td style=\"text-align: left;\"> Nominal</td>\n",
    "    <td style=\"text-align: left;\"> Name of the New York City Housing Authority (NYCHA) housing development where complaint occurred, if applicable</td>\n",
    "</tr>\n",
    "<tr><th style=\"text-align: left;\">X_COORD_CD</th>\n",
    "    <td style=\"text-align: left;\"> Float64</td>\n",
    "    <td style=\"text-align: left;\"> X-coordinate for New York State Plane Coordinate System, Long Island Zone, NAD 83, units feet (FIPS 3104)</td>\n",
    "X</tr>\n",
    "<tr><th style=\"text-align: left;\">Y_COORD_CD</th>\n",
    "    <td style=\"text-align: left;\"> Float64</td>\n",
    "    <td style=\"text-align: left;\"> Y-coordinate for New York State Plane Coordinate System, Long Island Zone, NAD 83, units feet (FIPS 3104)</td>\n",
    "</tr>\n",
    "<tr><th style=\"text-align: left;\">LATITUDE</th>\n",
    "    <td style=\"text-align: left;\"> Float64</td>\n",
    "    <td style=\"text-align: left;\"> Midblock Latitude coordinate for Global Coordinate System, WGS 1984, decimal degrees (EPSG 4326)</td>\n",
    "</tr>\n",
    "<tr><th style=\"text-align: left;\">LONGITUDE</th>\n",
    "    <td style=\"text-align: left;\"> Float64</td>\n",
    "    <td style=\"text-align: left;\"> Midblock Longitude coordinate for Global Coordinate System, WGS 1984,decimal degrees (EPSG 4326)</td>\n",
    "</tr>\n",
    "<tr><th style=\"text-align: left;\">LAT_LON</th>\n",
    "    <td style=\"text-align: left;\"> String</td>\n",
    "    <td style=\"text-align: left;\"> The Midblock Latitude and Midblock  Longitude coordinate point pair for Global Coordinate System, WGS 1984,decimal degrees (EPSG 4326)</td>\n",
    "</tr>\n",
    "\n",
    "<tr><th style=\"text-align: left;\">HOUSING_PSA</th>\n",
    "    <td style=\"text-align: left;\"> Integer</td>\n",
    "    <td style=\"text-align: left;\"> Represents the Housing Development Level Code</td>\n",
    "</tr>\n",
    "<tr><th style=\"text-align: left;\">JURISDICTION_CODE</th>\n",
    "    <td style=\"text-align: left;\"> Integer</td>\n",
    "    <td style=\"text-align: left;\"> Represents the jurisdiction responsible for incident. It takes one of four values from 0 to 3 to indicate different agencies like Police, Transit, Housing, or External.</td>\n",
    "</tr>\n",
    "<tr><th style=\"text-align: left;\">PATROL_BORO</th>\n",
    "    <td style=\"text-align: left;\"> Nominal</td>\n",
    "    <td style=\"text-align: left;\"> Similar to BORO_NM.  Instead of the name of the borough, this attribute is the name of the patrol borough in which the reported incident took place.</td>\n",
    "</tr>\n",
    "<tr><th style=\"text-align: left;\">STATION_NAME</th>\n",
    "    <td style=\"text-align: left;\"> Nominal</td>\n",
    "    <td style=\"text-align: left;\"> The name of the transit station in which an incident occurred if it occurred in a transit station.</td>\n",
    "</tr>\n",
    "<tr><th style=\"text-align: left;\">SUSP_AGE_GROUP</th>\n",
    "    <td style=\"text-align: left;\"> Nominal</td>\n",
    "    <td style=\"text-align: left;\"> A categorical attribute for the age group the suspect falls into (if known)</td>\n",
    "</tr><tr><th style=\"text-align: left;\">SUSP_RACE</th>\n",
    "    <td style=\"text-align: left;\"> Nominal</td>\n",
    "    <td style=\"text-align: left;\"> A categorical attribute corresponding to the ethnicity of the suspect (if known).</td>\n",
    "</tr><tr><th style=\"text-align: left;\">SUSP_SEX</th>\n",
    "    <td style=\"text-align: left;\"> Nominal</td>\n",
    "    <td style=\"text-align: left;\"> The gender of the suspect (if known)</td>\n",
    "</tr>\n",
    "</tr><tr><th style=\"text-align: left;\">TRANSIT_DISTRICT</th>\n",
    "    <td style=\"text-align: left;\"> Nominal</td>\n",
    "    <td style=\"text-align: left;\"> The name of the transit district in which the incident occurred.</td>\n",
    "</tr>\n",
    "</tr><tr><th style=\"text-align: left;\">VIC_AGE_GROUP</th>\n",
    "    <td style=\"text-align: left;\"> Nominal</td>\n",
    "    <td style=\"text-align: left;\"> A categorical attribute for the age group the victim falls into (if known).</td>\n",
    "</tr></tr><tr><th style=\"text-align: left;\">VIC_RACE</th>\n",
    "    <td style=\"text-align: left;\"> Nominal</td>\n",
    "    <td style=\"text-align: left;\"> A categorical attribute corresponding to the ethnicity of the victim (if known).</td>\n",
    "</tr></tr><tr><th style=\"text-align: left;\">VIC_SEX</th>\n",
    "    <td style=\"text-align: left;\"> Nominal</td>\n",
    "    <td style=\"text-align: left;\"> The gender of the victim (if known)</td>\n",
    "</tr>\n",
    "</table>\n",
    "\n",
    "\n",
    "The following attributes were deemed to be redundant with respect to other fields and are not required for data exploration and analysis:\n",
    "- The X_COORD_CD and Y_COORD_CD attributes represent an alternate coordinate system to the information available in the Latitude and Longitude attributes. Only one of the two available coordinate systems is needed.\n",
    "- The LAT_LON attribute is the concatonation of the individual Latitude and Longitude fields. Therefore, only one or the other is needed, not both.\n",
    "- The KY_CD field contains the numeric code equivalent of the offense description category (in OFNS_DESC) and only one or the other is necessary.\n",
    "- The PD_CD field contains the numeric code equivalent of the more granular PD description category (in PD_DESC) and only one or the other is necessary."
   ]
  },
  {
   "cell_type": "markdown",
   "metadata": {},
   "source": [
    "#### Imports and Custom Functions"
   ]
  },
  {
   "cell_type": "code",
   "execution_count": 38,
   "metadata": {},
   "outputs": [],
   "source": [
    "import numpy as np  # linear algebra\n",
    "import pandas as pd  # data processing, CSV file I/O (e.g. pd.read_csv)\n",
    "\n",
    "from sklearn import model_selection\n",
    "from sklearn.linear_model import LogisticRegression\n",
    "from sklearn.neighbors import KNeighborsClassifier\n",
    "from sklearn.ensemble import RandomForestClassifier\n",
    "#from sklearn.model_selection import StratifiedKFold\n",
    "\n",
    "from sklearn.model_selection import cross_val_score\n",
    "from sklearn.model_selection import StratifiedShuffleSplit\n",
    "from sklearn.model_selection import GridSearchCV\n",
    "from sklearn.model_selection import cross_validate\n",
    "\n",
    "from sklearn.preprocessing import StandardScaler\n",
    "from sklearn import metrics as mt\n",
    "from sklearn.metrics import accuracy_score, f1_score, precision_score, recall_score, classification_report, confusion_matrix\n",
    "\n",
    "import seaborn as sns\n",
    "import matplotlib.pyplot as plt\n",
    "import plotly.tools as tls\n",
    "\n",
    "from math import sqrt\n",
    "from scipy import stats\n",
    "\n",
    "import warnings\n",
    "warnings.filterwarnings('ignore')\n",
    "warnings.simplefilter('ignore', DeprecationWarning)"
   ]
  },
  {
   "cell_type": "code",
   "execution_count": 39,
   "metadata": {},
   "outputs": [
    {
     "name": "stdout",
     "output_type": "stream",
     "text": [
      "done (30000, 35)\n",
      "<class 'pandas.core.frame.DataFrame'>\n",
      "RangeIndex: 30000 entries, 0 to 29999\n",
      "Data columns (total 35 columns):\n",
      "CMPLNT_NUM           30000 non-null int64\n",
      "CMPLNT_FR_DT         30000 non-null object\n",
      "CMPLNT_FR_TM         30000 non-null object\n",
      "CMPLNT_TO_DT         25032 non-null object\n",
      "CMPLNT_TO_TM         25042 non-null object\n",
      "ADDR_PCT_CD          30000 non-null int64\n",
      "RPT_DT               30000 non-null object\n",
      "KY_CD                30000 non-null int64\n",
      "OFNS_DESC            29997 non-null object\n",
      "PD_CD                30000 non-null int64\n",
      "PD_DESC              30000 non-null object\n",
      "CRM_ATPT_CPTD_CD     30000 non-null object\n",
      "LAW_CAT_CD           30000 non-null object\n",
      "BORO_NM              30000 non-null object\n",
      "LOC_OF_OCCUR_DESC    24533 non-null object\n",
      "PREM_TYP_DESC        29912 non-null object\n",
      "JURIS_DESC           30000 non-null object\n",
      "JURISDICTION_CODE    30000 non-null int64\n",
      "PARKS_NM             116 non-null object\n",
      "HADEVELOPT           1553 non-null object\n",
      "HOUSING_PSA          2445 non-null float64\n",
      "X_COORD_CD           29997 non-null float64\n",
      "Y_COORD_CD           29997 non-null float64\n",
      "SUSP_AGE_GROUP       21797 non-null object\n",
      "SUSP_RACE            21797 non-null object\n",
      "SUSP_SEX             21797 non-null object\n",
      "TRANSIT_DISTRICT     754 non-null float64\n",
      "Latitude             29997 non-null float64\n",
      "Longitude            29997 non-null float64\n",
      "Lat_Lon              29997 non-null object\n",
      "PATROL_BORO          30000 non-null object\n",
      "STATION_NAME         754 non-null object\n",
      "VIC_AGE_GROUP        30000 non-null object\n",
      "VIC_RACE             30000 non-null object\n",
      "VIC_SEX              30000 non-null object\n",
      "dtypes: float64(6), int64(5), object(24)\n",
      "memory usage: 8.0+ MB\n"
     ]
    },
    {
     "data": {
      "text/html": [
       "<div>\n",
       "<style scoped>\n",
       "    .dataframe tbody tr th:only-of-type {\n",
       "        vertical-align: middle;\n",
       "    }\n",
       "\n",
       "    .dataframe tbody tr th {\n",
       "        vertical-align: top;\n",
       "    }\n",
       "\n",
       "    .dataframe thead th {\n",
       "        text-align: right;\n",
       "    }\n",
       "</style>\n",
       "<table border=\"1\" class=\"dataframe\">\n",
       "  <thead>\n",
       "    <tr style=\"text-align: right;\">\n",
       "      <th></th>\n",
       "      <th>CMPLNT_NUM</th>\n",
       "      <th>CMPLNT_FR_DT</th>\n",
       "      <th>CMPLNT_FR_TM</th>\n",
       "      <th>CMPLNT_TO_DT</th>\n",
       "      <th>CMPLNT_TO_TM</th>\n",
       "      <th>ADDR_PCT_CD</th>\n",
       "      <th>RPT_DT</th>\n",
       "      <th>KY_CD</th>\n",
       "      <th>OFNS_DESC</th>\n",
       "      <th>PD_CD</th>\n",
       "      <th>...</th>\n",
       "      <th>SUSP_SEX</th>\n",
       "      <th>TRANSIT_DISTRICT</th>\n",
       "      <th>Latitude</th>\n",
       "      <th>Longitude</th>\n",
       "      <th>Lat_Lon</th>\n",
       "      <th>PATROL_BORO</th>\n",
       "      <th>STATION_NAME</th>\n",
       "      <th>VIC_AGE_GROUP</th>\n",
       "      <th>VIC_RACE</th>\n",
       "      <th>VIC_SEX</th>\n",
       "    </tr>\n",
       "  </thead>\n",
       "  <tbody>\n",
       "    <tr>\n",
       "      <th>0</th>\n",
       "      <td>862381535</td>\n",
       "      <td>11/17/2016</td>\n",
       "      <td>13:00:00</td>\n",
       "      <td>12/17/2016</td>\n",
       "      <td>13:30:00</td>\n",
       "      <td>73</td>\n",
       "      <td>12/19/2016</td>\n",
       "      <td>112</td>\n",
       "      <td>THEFT-FRAUD</td>\n",
       "      <td>739</td>\n",
       "      <td>...</td>\n",
       "      <td>NaN</td>\n",
       "      <td>NaN</td>\n",
       "      <td>40.671649</td>\n",
       "      <td>-73.914154</td>\n",
       "      <td>(40.671649253, -73.914153872)</td>\n",
       "      <td>PATROL BORO BKLYN NORTH</td>\n",
       "      <td>NaN</td>\n",
       "      <td>25-44</td>\n",
       "      <td>BLACK</td>\n",
       "      <td>M</td>\n",
       "    </tr>\n",
       "    <tr>\n",
       "      <th>1</th>\n",
       "      <td>989056788</td>\n",
       "      <td>11/17/2016</td>\n",
       "      <td>12:00:00</td>\n",
       "      <td>11/25/2016</td>\n",
       "      <td>12:00:00</td>\n",
       "      <td>111</td>\n",
       "      <td>12/19/2016</td>\n",
       "      <td>109</td>\n",
       "      <td>GRAND LARCENY</td>\n",
       "      <td>422</td>\n",
       "      <td>...</td>\n",
       "      <td>NaN</td>\n",
       "      <td>NaN</td>\n",
       "      <td>40.737499</td>\n",
       "      <td>-73.754141</td>\n",
       "      <td>(40.737499063, -73.754140785)</td>\n",
       "      <td>PATROL BORO QUEENS NORTH</td>\n",
       "      <td>NaN</td>\n",
       "      <td>45-64</td>\n",
       "      <td>ASIAN / PACIFIC ISLANDER</td>\n",
       "      <td>M</td>\n",
       "    </tr>\n",
       "    <tr>\n",
       "      <th>2</th>\n",
       "      <td>137301059</td>\n",
       "      <td>12/31/2016</td>\n",
       "      <td>23:55:00</td>\n",
       "      <td>12/31/2016</td>\n",
       "      <td>23:56:00</td>\n",
       "      <td>14</td>\n",
       "      <td>12/31/2016</td>\n",
       "      <td>235</td>\n",
       "      <td>DANGEROUS DRUGS</td>\n",
       "      <td>511</td>\n",
       "      <td>...</td>\n",
       "      <td>M</td>\n",
       "      <td>NaN</td>\n",
       "      <td>40.756266</td>\n",
       "      <td>-73.990501</td>\n",
       "      <td>(40.756266207, -73.990501248)</td>\n",
       "      <td>PATROL BORO MAN SOUTH</td>\n",
       "      <td>NaN</td>\n",
       "      <td>UNKNOWN</td>\n",
       "      <td>UNKNOWN</td>\n",
       "      <td>E</td>\n",
       "    </tr>\n",
       "    <tr>\n",
       "      <th>3</th>\n",
       "      <td>207736768</td>\n",
       "      <td>12/31/2016</td>\n",
       "      <td>23:40:00</td>\n",
       "      <td>12/31/2016</td>\n",
       "      <td>23:50:00</td>\n",
       "      <td>43</td>\n",
       "      <td>12/31/2016</td>\n",
       "      <td>105</td>\n",
       "      <td>ROBBERY</td>\n",
       "      <td>389</td>\n",
       "      <td>...</td>\n",
       "      <td>M</td>\n",
       "      <td>NaN</td>\n",
       "      <td>40.828755</td>\n",
       "      <td>-73.866594</td>\n",
       "      <td>(40.828754623, -73.866593516)</td>\n",
       "      <td>PATROL BORO BRONX</td>\n",
       "      <td>NaN</td>\n",
       "      <td>25-44</td>\n",
       "      <td>WHITE HISPANIC</td>\n",
       "      <td>F</td>\n",
       "    </tr>\n",
       "    <tr>\n",
       "      <th>4</th>\n",
       "      <td>510076514</td>\n",
       "      <td>12/31/2016</td>\n",
       "      <td>23:30:00</td>\n",
       "      <td>12/31/2016</td>\n",
       "      <td>23:31:00</td>\n",
       "      <td>25</td>\n",
       "      <td>12/31/2016</td>\n",
       "      <td>344</td>\n",
       "      <td>ASSAULT 3 &amp; RELATED OFFENSES</td>\n",
       "      <td>101</td>\n",
       "      <td>...</td>\n",
       "      <td>U</td>\n",
       "      <td>NaN</td>\n",
       "      <td>40.809860</td>\n",
       "      <td>-73.937644</td>\n",
       "      <td>(40.809859893, -73.937644103)</td>\n",
       "      <td>PATROL BORO MAN NORTH</td>\n",
       "      <td>NaN</td>\n",
       "      <td>UNKNOWN</td>\n",
       "      <td>BLACK</td>\n",
       "      <td>F</td>\n",
       "    </tr>\n",
       "  </tbody>\n",
       "</table>\n",
       "<p>5 rows × 35 columns</p>\n",
       "</div>"
      ],
      "text/plain": [
       "   CMPLNT_NUM CMPLNT_FR_DT CMPLNT_FR_TM CMPLNT_TO_DT CMPLNT_TO_TM  \\\n",
       "0   862381535   11/17/2016     13:00:00   12/17/2016     13:30:00   \n",
       "1   989056788   11/17/2016     12:00:00   11/25/2016     12:00:00   \n",
       "2   137301059   12/31/2016     23:55:00   12/31/2016     23:56:00   \n",
       "3   207736768   12/31/2016     23:40:00   12/31/2016     23:50:00   \n",
       "4   510076514   12/31/2016     23:30:00   12/31/2016     23:31:00   \n",
       "\n",
       "   ADDR_PCT_CD      RPT_DT  KY_CD                     OFNS_DESC  PD_CD  \\\n",
       "0           73  12/19/2016    112                   THEFT-FRAUD    739   \n",
       "1          111  12/19/2016    109                 GRAND LARCENY    422   \n",
       "2           14  12/31/2016    235               DANGEROUS DRUGS    511   \n",
       "3           43  12/31/2016    105                       ROBBERY    389   \n",
       "4           25  12/31/2016    344  ASSAULT 3 & RELATED OFFENSES    101   \n",
       "\n",
       "    ...   SUSP_SEX TRANSIT_DISTRICT   Latitude  Longitude  \\\n",
       "0   ...        NaN              NaN  40.671649 -73.914154   \n",
       "1   ...        NaN              NaN  40.737499 -73.754141   \n",
       "2   ...          M              NaN  40.756266 -73.990501   \n",
       "3   ...          M              NaN  40.828755 -73.866594   \n",
       "4   ...          U              NaN  40.809860 -73.937644   \n",
       "\n",
       "                         Lat_Lon               PATROL_BORO STATION_NAME  \\\n",
       "0  (40.671649253, -73.914153872)   PATROL BORO BKLYN NORTH          NaN   \n",
       "1  (40.737499063, -73.754140785)  PATROL BORO QUEENS NORTH          NaN   \n",
       "2  (40.756266207, -73.990501248)     PATROL BORO MAN SOUTH          NaN   \n",
       "3  (40.828754623, -73.866593516)         PATROL BORO BRONX          NaN   \n",
       "4  (40.809859893, -73.937644103)     PATROL BORO MAN NORTH          NaN   \n",
       "\n",
       "   VIC_AGE_GROUP                  VIC_RACE VIC_SEX  \n",
       "0          25-44                     BLACK       M  \n",
       "1          45-64  ASIAN / PACIFIC ISLANDER       M  \n",
       "2        UNKNOWN                   UNKNOWN       E  \n",
       "3          25-44            WHITE HISPANIC       F  \n",
       "4        UNKNOWN                     BLACK       F  \n",
       "\n",
       "[5 rows x 35 columns]"
      ]
     },
     "execution_count": 39,
     "metadata": {},
     "output_type": "execute_result"
    }
   ],
   "source": [
    "# Load the file containing the crimes in new york data\n",
    "# using only 30k rows of 2016-2017 data. \n",
    "dataset = pd.read_csv(\"NYPD_Complaint_Data_Historic_2016_2017_U.csv\", nrows=30000, low_memory=False)\n",
    "\n",
    "# print the header of the table representing the data\n",
    "print(\"done\", dataset.shape)\n",
    "dataset.info()\n",
    "dataset.head()"
   ]
  },
  {
   "cell_type": "code",
   "execution_count": 40,
   "metadata": {},
   "outputs": [
    {
     "name": "stdout",
     "output_type": "stream",
     "text": [
      "(22076, 35)\n"
     ]
    }
   ],
   "source": [
    "# Remove rows with empty or unknown Victim gender \n",
    "victim_gender = ['M', 'F']\n",
    "dataset = dataset[dataset.VIC_SEX.isin(victim_gender)]\n",
    "print(dataset.shape)\n",
    "#dataset.info()"
   ]
  },
  {
   "cell_type": "markdown",
   "metadata": {},
   "source": [
    "#### Defining common functions"
   ]
  },
  {
   "cell_type": "code",
   "execution_count": 41,
   "metadata": {},
   "outputs": [],
   "source": [
    "def fetchMonth(date):\n",
    "    tokens = str(date).split('/')\n",
    "    return tokens[0]\n",
    "\n",
    "\n",
    "def timeOfTheDay(time):\n",
    "    tokens = str(time).split(':')\n",
    "    if int(tokens[0]) <= 6:\n",
    "        return 'night'\n",
    "    if int(tokens[0]) <= 12:\n",
    "        return 'before_noon'\n",
    "    if int(tokens[0]) <= 18:\n",
    "        return 'after_noon'\n",
    "    if int(tokens[0]) <= 24:\n",
    "        return 'evening'\n",
    "\n",
    "\n",
    "def computeOffenseFlag(offense_level):\n",
    "    offense_level = str(offense_level)\n",
    "    if offense_level == 'FELONY':\n",
    "        return 1\n",
    "    return 0\n",
    "\n",
    "def calc_felony_ratio(data):\n",
    "    felony = data[(data.IsFelony == 1)]\n",
    "    num_felony= len(felony)\n",
    "    print('felonies: %d' % num_felony)\n",
    "    print('all_crimes: %d' % len(data.IsFelony))\n",
    "\n",
    "    print('Percentage: %f' % ((num_felony / (len(data.IsFelony))) * 100))\n",
    "\n",
    "\n",
    "def computeVictimFemale(vic_sex):\n",
    "    vic_sex = str(vic_sex)\n",
    "    if vic_sex == 'F':\n",
    "        return 1\n",
    "    return 0\n",
    "\n",
    "def calc_female_ratio(data):\n",
    "    female = data[(data.IsFemale == 1)]\n",
    "    num_female = len(female)\n",
    "    print('females: %d' % num_female)\n",
    "    print('all_crimes: %d' % len(data.IsFemale))\n",
    "\n",
    "    print('Percentage: %f' % ((num_female / (len(data.IsFemale))) * 100))\n",
    "    \n",
    "\n",
    "# function for plotting class accuracies\n",
    "from matplotlib import pyplot as plt\n",
    "\n",
    "def per_class_accuracy(ytrue,yhat):\n",
    "    conf = mt.confusion_matrix(ytrue,yhat)\n",
    "    norm_conf = conf.astype('float') / conf.sum(axis=1)[:, np.newaxis]\n",
    "    return np.diag(norm_conf)\n",
    "\n",
    "def plot_class_acc(ytrue,yhat, xlbl, title=''):\n",
    "    acc_list = per_class_accuracy(ytrue,yhat)\n",
    "    plt.bar(range(len(acc_list)), acc_list)\n",
    "    plt.xlabel(\"Not \" + xlbl + \" and \" + xlbl)\n",
    "    plt.ylabel('Accuracy  within class')\n",
    "    plt.title(title+\", Total Acc=%.1f\"%(100*mt.accuracy_score(ytrue,yhat)))\n",
    "    plt.grid()\n",
    "    plt.show()"
   ]
  },
  {
   "cell_type": "code",
   "execution_count": 42,
   "metadata": {},
   "outputs": [],
   "source": [
    "# populate empty date fields\n",
    "dataset.loc[:,'CMPLNT_FR_DT'].fillna('12/01/2015', inplace=True)\n",
    "\n",
    "# Removing rows with empty boroughs or invalid borough names\n",
    "#Bourough Check  \n",
    "boroughs = ['BRONX','BROOKLYN', 'MANHATTAN', 'QUEENS','STATEN ISLAND' ]   \n",
    "dataset = dataset[dataset.BORO_NM.isin(boroughs)]\n",
    "\n",
    "# Removing rows with empty offense level or invalid offense level labels\n",
    "offenseLevel = ['MISDEMEANOR', 'FELONY', 'VIOLATION']\n",
    "dataset = dataset[dataset.LAW_CAT_CD.isin(offenseLevel)]\n"
   ]
  },
  {
   "cell_type": "code",
   "execution_count": 43,
   "metadata": {},
   "outputs": [],
   "source": [
    "# pre process the data\n",
    "features = dataset[['CMPLNT_FR_DT',\n",
    "                    'CMPLNT_FR_TM',\n",
    "                    'BORO_NM']]\n",
    "\n",
    "#print('FEATURES dataset', features.shape)\n",
    "#features.info()\n",
    "#features.head()"
   ]
  },
  {
   "cell_type": "code",
   "execution_count": 44,
   "metadata": {},
   "outputs": [
    {
     "data": {
      "text/html": [
       "<div>\n",
       "<style scoped>\n",
       "    .dataframe tbody tr th:only-of-type {\n",
       "        vertical-align: middle;\n",
       "    }\n",
       "\n",
       "    .dataframe tbody tr th {\n",
       "        vertical-align: top;\n",
       "    }\n",
       "\n",
       "    .dataframe thead th {\n",
       "        text-align: right;\n",
       "    }\n",
       "</style>\n",
       "<table border=\"1\" class=\"dataframe\">\n",
       "  <thead>\n",
       "    <tr style=\"text-align: right;\">\n",
       "      <th></th>\n",
       "      <th>CMPLNT_FR_DT</th>\n",
       "      <th>CMPLNT_FR_TM</th>\n",
       "      <th>BORO_NM</th>\n",
       "    </tr>\n",
       "  </thead>\n",
       "  <tbody>\n",
       "    <tr>\n",
       "      <th>0</th>\n",
       "      <td>11</td>\n",
       "      <td>after_noon</td>\n",
       "      <td>BROOKLYN</td>\n",
       "    </tr>\n",
       "    <tr>\n",
       "      <th>1</th>\n",
       "      <td>11</td>\n",
       "      <td>before_noon</td>\n",
       "      <td>QUEENS</td>\n",
       "    </tr>\n",
       "    <tr>\n",
       "      <th>3</th>\n",
       "      <td>12</td>\n",
       "      <td>evening</td>\n",
       "      <td>BRONX</td>\n",
       "    </tr>\n",
       "    <tr>\n",
       "      <th>4</th>\n",
       "      <td>12</td>\n",
       "      <td>evening</td>\n",
       "      <td>MANHATTAN</td>\n",
       "    </tr>\n",
       "    <tr>\n",
       "      <th>6</th>\n",
       "      <td>12</td>\n",
       "      <td>evening</td>\n",
       "      <td>QUEENS</td>\n",
       "    </tr>\n",
       "  </tbody>\n",
       "</table>\n",
       "</div>"
      ],
      "text/plain": [
       "  CMPLNT_FR_DT CMPLNT_FR_TM    BORO_NM\n",
       "0           11   after_noon   BROOKLYN\n",
       "1           11  before_noon     QUEENS\n",
       "3           12      evening      BRONX\n",
       "4           12      evening  MANHATTAN\n",
       "6           12      evening     QUEENS"
      ]
     },
     "execution_count": 44,
     "metadata": {},
     "output_type": "execute_result"
    }
   ],
   "source": [
    "# convert the date column into month column\n",
    "date = dataset.CMPLNT_FR_DT\n",
    "date = date.apply(lambda x: fetchMonth(x))\n",
    "\n",
    "# split the time column into day regions\n",
    "time = dataset.CMPLNT_FR_TM\n",
    "time = time.fillna('22:00:00')\n",
    "time = time.apply(lambda x: timeOfTheDay(x))\n",
    "\n",
    "features.CMPLNT_FR_DT = date\n",
    "features.CMPLNT_FR_TM = time\n",
    "\n",
    "#print('FEATURES dataset', features.shape)\n",
    "#features.info()\n",
    "features.head()"
   ]
  },
  {
   "cell_type": "markdown",
   "metadata": {},
   "source": [
    "- We also one hot encode our categorical features for use in our models. CMPLNT_FR_DT, CMPLNT_FR_TM, and BORO_NM have too many variables for binary coding, so one-hot encoding will be performed. "
   ]
  },
  {
   "cell_type": "code",
   "execution_count": 45,
   "metadata": {},
   "outputs": [],
   "source": [
    "# encode the data (we have strings as labels want numerical values)\n",
    "one_hot_date = pd.get_dummies(features.CMPLNT_FR_DT, prefix =\"month\")\n",
    "one_hot_time_of_day = pd.get_dummies(features.CMPLNT_FR_TM)\n",
    "one_hot_borough = pd.get_dummies(features.BORO_NM)\n"
   ]
  },
  {
   "cell_type": "code",
   "execution_count": 46,
   "metadata": {},
   "outputs": [],
   "source": [
    "features.drop('CMPLNT_FR_DT', axis=1, inplace=True)\n",
    "features.drop('CMPLNT_FR_TM', axis=1, inplace=True)\n",
    "features.drop('BORO_NM', axis=1, inplace=True)\n",
    "#print(\"features.shape \", features.shape)\n",
    "#features.info()\n",
    "#features.head()"
   ]
  },
  {
   "cell_type": "code",
   "execution_count": 47,
   "metadata": {},
   "outputs": [],
   "source": [
    "features = features.join(one_hot_date)\n",
    "features = features.join(one_hot_time_of_day)\n",
    "features = features.join(one_hot_borough)\n",
    "\n",
    "### Store data for Task 2 before any manipulation \n",
    "newFeatures = features.copy()"
   ]
  },
  {
   "cell_type": "markdown",
   "metadata": {},
   "source": [
    "### Data Preparation 1 for Task1 \n",
    "\n",
    "- In order to Predict whether crimes are felonies or not, we need to make sure we include the new IsFelony attribute"
   ]
  },
  {
   "cell_type": "code",
   "execution_count": 48,
   "metadata": {},
   "outputs": [],
   "source": [
    "labels = pd.DataFrame()\n",
    "#law_cat_cd felony\n",
    "labels['IsFelony'] = dataset.LAW_CAT_CD.apply(lambda x: computeOffenseFlag(x))\n",
    "\n",
    "#print(\"labels shape\", labels.shape)\n",
    "#labels.info()\n",
    "#labels.head()"
   ]
  },
  {
   "cell_type": "code",
   "execution_count": 49,
   "metadata": {},
   "outputs": [
    {
     "name": "stdout",
     "output_type": "stream",
     "text": [
      "Done (22076, 22)\n",
      "<class 'pandas.core.frame.DataFrame'>\n",
      "Int64Index: 22076 entries, 0 to 29998\n",
      "Data columns (total 22 columns):\n",
      "month_1          22076 non-null uint8\n",
      "month_10         22076 non-null uint8\n",
      "month_11         22076 non-null uint8\n",
      "month_12         22076 non-null uint8\n",
      "month_2          22076 non-null uint8\n",
      "month_3          22076 non-null uint8\n",
      "month_4          22076 non-null uint8\n",
      "month_5          22076 non-null uint8\n",
      "month_6          22076 non-null uint8\n",
      "month_7          22076 non-null uint8\n",
      "month_8          22076 non-null uint8\n",
      "month_9          22076 non-null uint8\n",
      "after_noon       22076 non-null uint8\n",
      "before_noon      22076 non-null uint8\n",
      "evening          22076 non-null uint8\n",
      "night            22076 non-null uint8\n",
      "BRONX            22076 non-null uint8\n",
      "BROOKLYN         22076 non-null uint8\n",
      "MANHATTAN        22076 non-null uint8\n",
      "QUEENS           22076 non-null uint8\n",
      "STATEN ISLAND    22076 non-null uint8\n",
      "IsFelony         22076 non-null int64\n",
      "dtypes: int64(1), uint8(21)\n",
      "memory usage: 1.4 MB\n"
     ]
    },
    {
     "data": {
      "text/html": [
       "<div>\n",
       "<style scoped>\n",
       "    .dataframe tbody tr th:only-of-type {\n",
       "        vertical-align: middle;\n",
       "    }\n",
       "\n",
       "    .dataframe tbody tr th {\n",
       "        vertical-align: top;\n",
       "    }\n",
       "\n",
       "    .dataframe thead th {\n",
       "        text-align: right;\n",
       "    }\n",
       "</style>\n",
       "<table border=\"1\" class=\"dataframe\">\n",
       "  <thead>\n",
       "    <tr style=\"text-align: right;\">\n",
       "      <th></th>\n",
       "      <th>month_1</th>\n",
       "      <th>month_10</th>\n",
       "      <th>month_11</th>\n",
       "      <th>month_12</th>\n",
       "      <th>month_2</th>\n",
       "      <th>month_3</th>\n",
       "      <th>month_4</th>\n",
       "      <th>month_5</th>\n",
       "      <th>month_6</th>\n",
       "      <th>month_7</th>\n",
       "      <th>...</th>\n",
       "      <th>after_noon</th>\n",
       "      <th>before_noon</th>\n",
       "      <th>evening</th>\n",
       "      <th>night</th>\n",
       "      <th>BRONX</th>\n",
       "      <th>BROOKLYN</th>\n",
       "      <th>MANHATTAN</th>\n",
       "      <th>QUEENS</th>\n",
       "      <th>STATEN ISLAND</th>\n",
       "      <th>IsFelony</th>\n",
       "    </tr>\n",
       "  </thead>\n",
       "  <tbody>\n",
       "    <tr>\n",
       "      <th>0</th>\n",
       "      <td>0</td>\n",
       "      <td>0</td>\n",
       "      <td>1</td>\n",
       "      <td>0</td>\n",
       "      <td>0</td>\n",
       "      <td>0</td>\n",
       "      <td>0</td>\n",
       "      <td>0</td>\n",
       "      <td>0</td>\n",
       "      <td>0</td>\n",
       "      <td>...</td>\n",
       "      <td>1</td>\n",
       "      <td>0</td>\n",
       "      <td>0</td>\n",
       "      <td>0</td>\n",
       "      <td>0</td>\n",
       "      <td>1</td>\n",
       "      <td>0</td>\n",
       "      <td>0</td>\n",
       "      <td>0</td>\n",
       "      <td>1</td>\n",
       "    </tr>\n",
       "    <tr>\n",
       "      <th>1</th>\n",
       "      <td>0</td>\n",
       "      <td>0</td>\n",
       "      <td>1</td>\n",
       "      <td>0</td>\n",
       "      <td>0</td>\n",
       "      <td>0</td>\n",
       "      <td>0</td>\n",
       "      <td>0</td>\n",
       "      <td>0</td>\n",
       "      <td>0</td>\n",
       "      <td>...</td>\n",
       "      <td>0</td>\n",
       "      <td>1</td>\n",
       "      <td>0</td>\n",
       "      <td>0</td>\n",
       "      <td>0</td>\n",
       "      <td>0</td>\n",
       "      <td>0</td>\n",
       "      <td>1</td>\n",
       "      <td>0</td>\n",
       "      <td>1</td>\n",
       "    </tr>\n",
       "    <tr>\n",
       "      <th>3</th>\n",
       "      <td>0</td>\n",
       "      <td>0</td>\n",
       "      <td>0</td>\n",
       "      <td>1</td>\n",
       "      <td>0</td>\n",
       "      <td>0</td>\n",
       "      <td>0</td>\n",
       "      <td>0</td>\n",
       "      <td>0</td>\n",
       "      <td>0</td>\n",
       "      <td>...</td>\n",
       "      <td>0</td>\n",
       "      <td>0</td>\n",
       "      <td>1</td>\n",
       "      <td>0</td>\n",
       "      <td>1</td>\n",
       "      <td>0</td>\n",
       "      <td>0</td>\n",
       "      <td>0</td>\n",
       "      <td>0</td>\n",
       "      <td>1</td>\n",
       "    </tr>\n",
       "    <tr>\n",
       "      <th>4</th>\n",
       "      <td>0</td>\n",
       "      <td>0</td>\n",
       "      <td>0</td>\n",
       "      <td>1</td>\n",
       "      <td>0</td>\n",
       "      <td>0</td>\n",
       "      <td>0</td>\n",
       "      <td>0</td>\n",
       "      <td>0</td>\n",
       "      <td>0</td>\n",
       "      <td>...</td>\n",
       "      <td>0</td>\n",
       "      <td>0</td>\n",
       "      <td>1</td>\n",
       "      <td>0</td>\n",
       "      <td>0</td>\n",
       "      <td>0</td>\n",
       "      <td>1</td>\n",
       "      <td>0</td>\n",
       "      <td>0</td>\n",
       "      <td>0</td>\n",
       "    </tr>\n",
       "    <tr>\n",
       "      <th>6</th>\n",
       "      <td>0</td>\n",
       "      <td>0</td>\n",
       "      <td>0</td>\n",
       "      <td>1</td>\n",
       "      <td>0</td>\n",
       "      <td>0</td>\n",
       "      <td>0</td>\n",
       "      <td>0</td>\n",
       "      <td>0</td>\n",
       "      <td>0</td>\n",
       "      <td>...</td>\n",
       "      <td>0</td>\n",
       "      <td>0</td>\n",
       "      <td>1</td>\n",
       "      <td>0</td>\n",
       "      <td>0</td>\n",
       "      <td>0</td>\n",
       "      <td>0</td>\n",
       "      <td>1</td>\n",
       "      <td>0</td>\n",
       "      <td>1</td>\n",
       "    </tr>\n",
       "  </tbody>\n",
       "</table>\n",
       "<p>5 rows × 22 columns</p>\n",
       "</div>"
      ],
      "text/plain": [
       "   month_1  month_10  month_11  month_12  month_2  month_3  month_4  month_5  \\\n",
       "0        0         0         1         0        0        0        0        0   \n",
       "1        0         0         1         0        0        0        0        0   \n",
       "3        0         0         0         1        0        0        0        0   \n",
       "4        0         0         0         1        0        0        0        0   \n",
       "6        0         0         0         1        0        0        0        0   \n",
       "\n",
       "   month_6  month_7    ...     after_noon  before_noon  evening  night  BRONX  \\\n",
       "0        0        0    ...              1            0        0      0      0   \n",
       "1        0        0    ...              0            1        0      0      0   \n",
       "3        0        0    ...              0            0        1      0      1   \n",
       "4        0        0    ...              0            0        1      0      0   \n",
       "6        0        0    ...              0            0        1      0      0   \n",
       "\n",
       "   BROOKLYN  MANHATTAN  QUEENS  STATEN ISLAND  IsFelony  \n",
       "0         1          0       0              0         1  \n",
       "1         0          0       1              0         1  \n",
       "3         0          0       0              0         1  \n",
       "4         0          1       0              0         0  \n",
       "6         0          0       1              0         1  \n",
       "\n",
       "[5 rows x 22 columns]"
      ]
     },
     "execution_count": 49,
     "metadata": {},
     "output_type": "execute_result"
    }
   ],
   "source": [
    "# add the labels to the data frame\n",
    "features = features.join(labels)\n",
    "\n",
    "print(\"Done\", features.shape)\n",
    "features.info()\n",
    "features.head()"
   ]
  },
  {
   "cell_type": "code",
   "execution_count": 50,
   "metadata": {},
   "outputs": [
    {
     "data": {
      "text/plain": [
       "0    14690\n",
       "1     7386\n",
       "Name: IsFelony, dtype: int64"
      ]
     },
     "execution_count": 50,
     "metadata": {},
     "output_type": "execute_result"
    }
   ],
   "source": [
    "features.IsFelony.value_counts()"
   ]
  },
  {
   "cell_type": "code",
   "execution_count": 51,
   "metadata": {},
   "outputs": [
    {
     "name": "stdout",
     "output_type": "stream",
     "text": [
      "<class 'pandas.core.frame.DataFrame'>\n",
      "Int64Index: 22076 entries, 0 to 29998\n",
      "Data columns (total 22 columns):\n",
      "month_1          22076 non-null uint8\n",
      "month_10         22076 non-null uint8\n",
      "month_11         22076 non-null uint8\n",
      "month_12         22076 non-null uint8\n",
      "month_2          22076 non-null uint8\n",
      "month_3          22076 non-null uint8\n",
      "month_4          22076 non-null uint8\n",
      "month_5          22076 non-null uint8\n",
      "month_6          22076 non-null uint8\n",
      "month_7          22076 non-null uint8\n",
      "month_8          22076 non-null uint8\n",
      "month_9          22076 non-null uint8\n",
      "after_noon       22076 non-null uint8\n",
      "before_noon      22076 non-null uint8\n",
      "evening          22076 non-null uint8\n",
      "night            22076 non-null uint8\n",
      "BRONX            22076 non-null uint8\n",
      "BROOKLYN         22076 non-null uint8\n",
      "MANHATTAN        22076 non-null uint8\n",
      "QUEENS           22076 non-null uint8\n",
      "STATEN ISLAND    22076 non-null uint8\n",
      "IsFelony         22076 non-null int64\n",
      "dtypes: int64(1), uint8(21)\n",
      "memory usage: 797.7 KB\n"
     ]
    }
   ],
   "source": [
    "#Save Task 1 related features to use later when look at feature importance\n",
    "Task1Features = features.copy()\n",
    "Task1Features.info()"
   ]
  },
  {
   "cell_type": "markdown",
   "metadata": {},
   "source": [
    "### Split data for Task1\n",
    "\n",
    "- In order to effectively evaluate our model performance, we split our data into training & test sets using an initial 80/20 split.\n",
    "- Then, we inspect the felonies ratio in the train and test data and ensure they each reflect ratios in the  source data (features)."
   ]
  },
  {
   "cell_type": "code",
   "execution_count": 52,
   "metadata": {},
   "outputs": [
    {
     "name": "stdout",
     "output_type": "stream",
     "text": [
      "Done\n",
      "(22076, 22)\n",
      "(17660, 22)\n",
      "(4416, 22)\n"
     ]
    }
   ],
   "source": [
    "# split the data set into train validate and test sets 80% 20% \n",
    "train, test = np.split(features.sample(frac=1), [int(.8*len(features))])\n",
    "print(\"Done\")\n",
    "print(features.shape)\n",
    "print(train.shape)\n",
    "print(test.shape)"
   ]
  },
  {
   "cell_type": "code",
   "execution_count": 53,
   "metadata": {},
   "outputs": [
    {
     "name": "stdout",
     "output_type": "stream",
     "text": [
      "All the dataset\n",
      "felonies: 7386\n",
      "all_crimes: 22076\n",
      "Percentage: 33.457148\n"
     ]
    }
   ],
   "source": [
    "# compute the felonies ratio\n",
    "print('All the dataset')\n",
    "calc_felony_ratio(features)"
   ]
  },
  {
   "cell_type": "code",
   "execution_count": 54,
   "metadata": {},
   "outputs": [
    {
     "name": "stdout",
     "output_type": "stream",
     "text": [
      "Train dataset\n",
      "felonies: 5926\n",
      "all_crimes: 17660\n",
      "Percentage: 33.556059\n"
     ]
    }
   ],
   "source": [
    "print('Train dataset')\n",
    "calc_felony_ratio(train)"
   ]
  },
  {
   "cell_type": "code",
   "execution_count": 55,
   "metadata": {},
   "outputs": [
    {
     "name": "stdout",
     "output_type": "stream",
     "text": [
      "Test dataset\n",
      "felonies: 1460\n",
      "all_crimes: 4416\n",
      "Percentage: 33.061594\n",
      "Done\n"
     ]
    }
   ],
   "source": [
    "print('Test dataset')\n",
    "calc_felony_ratio(test)\n",
    "print(\"Done\")"
   ]
  },
  {
   "cell_type": "markdown",
   "metadata": {},
   "source": [
    "### Data Preparation 1 for Task 2\n",
    "\n",
    "- In order to Predict whether crimes victims are females or not, we need to make sure we include the new IsFemale attribute"
   ]
  },
  {
   "cell_type": "code",
   "execution_count": 56,
   "metadata": {},
   "outputs": [],
   "source": [
    "#For Task2 prediction\n",
    "gender = pd.DataFrame()\n",
    "#vic_sex female\n",
    "gender['IsFemale'] = dataset.VIC_SEX.apply(lambda x: computeVictimFemale(x))\n",
    "\n",
    "#print(\"gender shape\", gender.shape)\n",
    "#gender.info()\n",
    "#gender.head()"
   ]
  },
  {
   "cell_type": "code",
   "execution_count": 57,
   "metadata": {},
   "outputs": [
    {
     "name": "stdout",
     "output_type": "stream",
     "text": [
      "Done (22076, 22)\n",
      "<class 'pandas.core.frame.DataFrame'>\n",
      "Int64Index: 22076 entries, 0 to 29998\n",
      "Data columns (total 22 columns):\n",
      "month_1          22076 non-null uint8\n",
      "month_10         22076 non-null uint8\n",
      "month_11         22076 non-null uint8\n",
      "month_12         22076 non-null uint8\n",
      "month_2          22076 non-null uint8\n",
      "month_3          22076 non-null uint8\n",
      "month_4          22076 non-null uint8\n",
      "month_5          22076 non-null uint8\n",
      "month_6          22076 non-null uint8\n",
      "month_7          22076 non-null uint8\n",
      "month_8          22076 non-null uint8\n",
      "month_9          22076 non-null uint8\n",
      "after_noon       22076 non-null uint8\n",
      "before_noon      22076 non-null uint8\n",
      "evening          22076 non-null uint8\n",
      "night            22076 non-null uint8\n",
      "BRONX            22076 non-null uint8\n",
      "BROOKLYN         22076 non-null uint8\n",
      "MANHATTAN        22076 non-null uint8\n",
      "QUEENS           22076 non-null uint8\n",
      "STATEN ISLAND    22076 non-null uint8\n",
      "IsFemale         22076 non-null int64\n",
      "dtypes: int64(1), uint8(21)\n",
      "memory usage: 1.4 MB\n"
     ]
    },
    {
     "data": {
      "text/html": [
       "<div>\n",
       "<style scoped>\n",
       "    .dataframe tbody tr th:only-of-type {\n",
       "        vertical-align: middle;\n",
       "    }\n",
       "\n",
       "    .dataframe tbody tr th {\n",
       "        vertical-align: top;\n",
       "    }\n",
       "\n",
       "    .dataframe thead th {\n",
       "        text-align: right;\n",
       "    }\n",
       "</style>\n",
       "<table border=\"1\" class=\"dataframe\">\n",
       "  <thead>\n",
       "    <tr style=\"text-align: right;\">\n",
       "      <th></th>\n",
       "      <th>month_1</th>\n",
       "      <th>month_10</th>\n",
       "      <th>month_11</th>\n",
       "      <th>month_12</th>\n",
       "      <th>month_2</th>\n",
       "      <th>month_3</th>\n",
       "      <th>month_4</th>\n",
       "      <th>month_5</th>\n",
       "      <th>month_6</th>\n",
       "      <th>month_7</th>\n",
       "      <th>...</th>\n",
       "      <th>after_noon</th>\n",
       "      <th>before_noon</th>\n",
       "      <th>evening</th>\n",
       "      <th>night</th>\n",
       "      <th>BRONX</th>\n",
       "      <th>BROOKLYN</th>\n",
       "      <th>MANHATTAN</th>\n",
       "      <th>QUEENS</th>\n",
       "      <th>STATEN ISLAND</th>\n",
       "      <th>IsFemale</th>\n",
       "    </tr>\n",
       "  </thead>\n",
       "  <tbody>\n",
       "    <tr>\n",
       "      <th>0</th>\n",
       "      <td>0</td>\n",
       "      <td>0</td>\n",
       "      <td>1</td>\n",
       "      <td>0</td>\n",
       "      <td>0</td>\n",
       "      <td>0</td>\n",
       "      <td>0</td>\n",
       "      <td>0</td>\n",
       "      <td>0</td>\n",
       "      <td>0</td>\n",
       "      <td>...</td>\n",
       "      <td>1</td>\n",
       "      <td>0</td>\n",
       "      <td>0</td>\n",
       "      <td>0</td>\n",
       "      <td>0</td>\n",
       "      <td>1</td>\n",
       "      <td>0</td>\n",
       "      <td>0</td>\n",
       "      <td>0</td>\n",
       "      <td>0</td>\n",
       "    </tr>\n",
       "    <tr>\n",
       "      <th>1</th>\n",
       "      <td>0</td>\n",
       "      <td>0</td>\n",
       "      <td>1</td>\n",
       "      <td>0</td>\n",
       "      <td>0</td>\n",
       "      <td>0</td>\n",
       "      <td>0</td>\n",
       "      <td>0</td>\n",
       "      <td>0</td>\n",
       "      <td>0</td>\n",
       "      <td>...</td>\n",
       "      <td>0</td>\n",
       "      <td>1</td>\n",
       "      <td>0</td>\n",
       "      <td>0</td>\n",
       "      <td>0</td>\n",
       "      <td>0</td>\n",
       "      <td>0</td>\n",
       "      <td>1</td>\n",
       "      <td>0</td>\n",
       "      <td>0</td>\n",
       "    </tr>\n",
       "    <tr>\n",
       "      <th>3</th>\n",
       "      <td>0</td>\n",
       "      <td>0</td>\n",
       "      <td>0</td>\n",
       "      <td>1</td>\n",
       "      <td>0</td>\n",
       "      <td>0</td>\n",
       "      <td>0</td>\n",
       "      <td>0</td>\n",
       "      <td>0</td>\n",
       "      <td>0</td>\n",
       "      <td>...</td>\n",
       "      <td>0</td>\n",
       "      <td>0</td>\n",
       "      <td>1</td>\n",
       "      <td>0</td>\n",
       "      <td>1</td>\n",
       "      <td>0</td>\n",
       "      <td>0</td>\n",
       "      <td>0</td>\n",
       "      <td>0</td>\n",
       "      <td>1</td>\n",
       "    </tr>\n",
       "    <tr>\n",
       "      <th>4</th>\n",
       "      <td>0</td>\n",
       "      <td>0</td>\n",
       "      <td>0</td>\n",
       "      <td>1</td>\n",
       "      <td>0</td>\n",
       "      <td>0</td>\n",
       "      <td>0</td>\n",
       "      <td>0</td>\n",
       "      <td>0</td>\n",
       "      <td>0</td>\n",
       "      <td>...</td>\n",
       "      <td>0</td>\n",
       "      <td>0</td>\n",
       "      <td>1</td>\n",
       "      <td>0</td>\n",
       "      <td>0</td>\n",
       "      <td>0</td>\n",
       "      <td>1</td>\n",
       "      <td>0</td>\n",
       "      <td>0</td>\n",
       "      <td>1</td>\n",
       "    </tr>\n",
       "    <tr>\n",
       "      <th>6</th>\n",
       "      <td>0</td>\n",
       "      <td>0</td>\n",
       "      <td>0</td>\n",
       "      <td>1</td>\n",
       "      <td>0</td>\n",
       "      <td>0</td>\n",
       "      <td>0</td>\n",
       "      <td>0</td>\n",
       "      <td>0</td>\n",
       "      <td>0</td>\n",
       "      <td>...</td>\n",
       "      <td>0</td>\n",
       "      <td>0</td>\n",
       "      <td>1</td>\n",
       "      <td>0</td>\n",
       "      <td>0</td>\n",
       "      <td>0</td>\n",
       "      <td>0</td>\n",
       "      <td>1</td>\n",
       "      <td>0</td>\n",
       "      <td>0</td>\n",
       "    </tr>\n",
       "  </tbody>\n",
       "</table>\n",
       "<p>5 rows × 22 columns</p>\n",
       "</div>"
      ],
      "text/plain": [
       "   month_1  month_10  month_11  month_12  month_2  month_3  month_4  month_5  \\\n",
       "0        0         0         1         0        0        0        0        0   \n",
       "1        0         0         1         0        0        0        0        0   \n",
       "3        0         0         0         1        0        0        0        0   \n",
       "4        0         0         0         1        0        0        0        0   \n",
       "6        0         0         0         1        0        0        0        0   \n",
       "\n",
       "   month_6  month_7    ...     after_noon  before_noon  evening  night  BRONX  \\\n",
       "0        0        0    ...              1            0        0      0      0   \n",
       "1        0        0    ...              0            1        0      0      0   \n",
       "3        0        0    ...              0            0        1      0      1   \n",
       "4        0        0    ...              0            0        1      0      0   \n",
       "6        0        0    ...              0            0        1      0      0   \n",
       "\n",
       "   BROOKLYN  MANHATTAN  QUEENS  STATEN ISLAND  IsFemale  \n",
       "0         1          0       0              0         0  \n",
       "1         0          0       1              0         0  \n",
       "3         0          0       0              0         1  \n",
       "4         0          1       0              0         1  \n",
       "6         0          0       1              0         0  \n",
       "\n",
       "[5 rows x 22 columns]"
      ]
     },
     "execution_count": 57,
     "metadata": {},
     "output_type": "execute_result"
    }
   ],
   "source": [
    "# add the gender to the data frame\n",
    "newFeatures = newFeatures.join(gender)\n",
    "\n",
    "print(\"Done\", newFeatures.shape)\n",
    "newFeatures.info()\n",
    "newFeatures.head()"
   ]
  },
  {
   "cell_type": "code",
   "execution_count": 58,
   "metadata": {},
   "outputs": [
    {
     "data": {
      "text/plain": [
       "1    11913\n",
       "0    10163\n",
       "Name: IsFemale, dtype: int64"
      ]
     },
     "execution_count": 58,
     "metadata": {},
     "output_type": "execute_result"
    }
   ],
   "source": [
    "newFeatures.IsFemale.value_counts()"
   ]
  },
  {
   "cell_type": "code",
   "execution_count": 59,
   "metadata": {
    "scrolled": true
   },
   "outputs": [
    {
     "name": "stdout",
     "output_type": "stream",
     "text": [
      "<class 'pandas.core.frame.DataFrame'>\n",
      "Int64Index: 22076 entries, 0 to 29998\n",
      "Data columns (total 22 columns):\n",
      "month_1          22076 non-null uint8\n",
      "month_10         22076 non-null uint8\n",
      "month_11         22076 non-null uint8\n",
      "month_12         22076 non-null uint8\n",
      "month_2          22076 non-null uint8\n",
      "month_3          22076 non-null uint8\n",
      "month_4          22076 non-null uint8\n",
      "month_5          22076 non-null uint8\n",
      "month_6          22076 non-null uint8\n",
      "month_7          22076 non-null uint8\n",
      "month_8          22076 non-null uint8\n",
      "month_9          22076 non-null uint8\n",
      "after_noon       22076 non-null uint8\n",
      "before_noon      22076 non-null uint8\n",
      "evening          22076 non-null uint8\n",
      "night            22076 non-null uint8\n",
      "BRONX            22076 non-null uint8\n",
      "BROOKLYN         22076 non-null uint8\n",
      "MANHATTAN        22076 non-null uint8\n",
      "QUEENS           22076 non-null uint8\n",
      "STATEN ISLAND    22076 non-null uint8\n",
      "IsFemale         22076 non-null int64\n",
      "dtypes: int64(1), uint8(21)\n",
      "memory usage: 797.7 KB\n"
     ]
    }
   ],
   "source": [
    "#Save Task 2 related newFeatures to use later when look at feature importance\n",
    "Task2Features = newFeatures.copy()\n",
    "Task2Features.info()"
   ]
  },
  {
   "cell_type": "markdown",
   "metadata": {},
   "source": [
    "## Split data for Task2\n",
    "\n",
    "- In order to effectively evaluate our model performance, we split our data into training & test sets using an initial 80/20 split.\n",
    "- Then, we inspect the female ratio in the train and test data and ensure they each reflect ratios in the source data (newfeatures)."
   ]
  },
  {
   "cell_type": "code",
   "execution_count": 60,
   "metadata": {},
   "outputs": [
    {
     "name": "stdout",
     "output_type": "stream",
     "text": [
      "Done\n",
      "(22076, 22)\n",
      "(17660, 22)\n",
      "(4416, 22)\n"
     ]
    }
   ],
   "source": [
    "# split the data set into train validate and test sets 80% 20% \n",
    "ntrain, ntest = np.split(newFeatures.sample(frac=1), [int(.8*len(newFeatures))])\n",
    "print(\"Done\")\n",
    "print(newFeatures.shape)\n",
    "print(ntrain.shape)\n",
    "print(ntest.shape)"
   ]
  },
  {
   "cell_type": "code",
   "execution_count": 61,
   "metadata": {},
   "outputs": [
    {
     "name": "stdout",
     "output_type": "stream",
     "text": [
      "All the dataset\n",
      "females: 11913\n",
      "all_crimes: 22076\n",
      "Percentage: 53.963580\n"
     ]
    }
   ],
   "source": [
    "# compute the female ratio\n",
    "print('All the dataset')\n",
    "calc_female_ratio(newFeatures)"
   ]
  },
  {
   "cell_type": "code",
   "execution_count": 62,
   "metadata": {
    "scrolled": true
   },
   "outputs": [
    {
     "name": "stdout",
     "output_type": "stream",
     "text": [
      "Train dataset\n",
      "females: 9528\n",
      "all_crimes: 17660\n",
      "Percentage: 53.952435\n"
     ]
    }
   ],
   "source": [
    "print('Train dataset')\n",
    "calc_female_ratio(ntrain)"
   ]
  },
  {
   "cell_type": "code",
   "execution_count": 63,
   "metadata": {},
   "outputs": [
    {
     "name": "stdout",
     "output_type": "stream",
     "text": [
      "Test dataset\n",
      "females: 2385\n",
      "all_crimes: 4416\n",
      "Percentage: 54.008152\n"
     ]
    }
   ],
   "source": [
    "print('Test dataset')\n",
    "calc_female_ratio(ntest)"
   ]
  },
  {
   "cell_type": "markdown",
   "metadata": {},
   "source": [
    "<a id=\"# Data_Preparation_Part_2\"></a>\n",
    "\n",
    "<a href=\"#top\">Back to Top</a>\n",
    "\n",
    "### Data_Preparation_Part_2"
   ]
  },
  {
   "cell_type": "markdown",
   "metadata": {},
   "source": [
    "The following five attributes were selected from the downloaded crime dataset to serve as the core features for  the information utilized in  Task 1 and Task 2 predictions.  One-Hot-Encoding was performed on each of these five attributes, so that the resulting new attributes described would be utilized in each task's models:\n",
    "<table>\n",
    "<tr><th style=\"text-align: center;\">ONE-HOT-ENCODING WAS RUN ON:  </th><th style=\"text-align: center;\">DATA TYPE</th><th style=\"text-align: center;\">GENERAL DESCRIPTION OF ONE-HOT-ENCODING RESULTS</th></tr>\n",
    "\n",
    "<tr><th style=\"text-align: left;\">CMPLNT_FR_DT</th>\n",
    "    <td style=\"text-align: left;\"> String</td>\n",
    "    <td style=\"text-align: left;\">12 new binary attributes, each representing a calendar month, e.g. month_1, month_2, .. month_11, month_12;  representing January, February, etc.</td>\n",
    "</tr>\n",
    "\n",
    "<tr><th style=\"text-align: left;\">CMPLNT_FR_TM</th>\n",
    "    <td style=\"text-align: left;\"> String</td>\n",
    "    <td style=\"text-align: left;\">Four new binary attributes, each representing a particular time of day, e.g. after_noon, before_noon, evening, night</td>\n",
    "</tr>\n",
    "\n",
    "\n",
    "<tr><th style=\"text-align: left;\">BORO_NM</th>\n",
    "    <td style=\"text-align: left;\"> Nominal</td>\n",
    "    <td style=\"text-align: left;\"> Five new binary attributes, each representing one of the five NYC boroughs. </td>\n",
    "</tr>\n",
    "\n",
    "\n",
    "<tr><th style=\"text-align: left;\">LAW_CAT_CD</th>\n",
    "    <td style=\"text-align: left;\"> Nominal</td>\n",
    "    <td style=\"text-align: left;\"> One new binary attribute indicating if the offense level was a Felony, or not a Felony (i.e. Misdemeanor or Violation).  Used as dependent y variable for prediction Task 1 only.</td>\n",
    "</tr>\n",
    "</tr></tr><tr><th style=\"text-align: left;\">VIC_SEX</th>\n",
    "    <td style=\"text-align: left;\"> Nominal</td>\n",
    "    <td style=\"text-align: left;\"> One new binary attribute indicating if the gender of the victim was a Female, or not a Female (i.e. Male).   Used as dependent variable y for prediction Task 2 only.</td>\n",
    "</tr>\n",
    "</table>\n"
   ]
  },
  {
   "cell_type": "markdown",
   "metadata": {},
   "source": [
    "- Below are the descriptions of the datasets used for Task 1 and Task 2, respectively.\n",
    "\n",
    "- Note that the only difference between the two is that Task 1 includes the isFelony attribute to be used as its dependent y variable, while Task 2 includes the isFemale attribute to be used as its dependent y variable."
   ]
  },
  {
   "cell_type": "markdown",
   "metadata": {},
   "source": [
    "Final dataset used for the prediction Task 1, predicting crime severity level isFelony:\n",
    "<table>\n",
    "<tr><th style=\"text-align: center;\">TASK 1 -- Final Data Set Attribute  </th><th style=\"text-align: center;\">Data Type</th><th style=\"text-align: center;\">Description</th></tr>\n",
    "\n",
    "<tr><th style=\"text-align: left;\">month_1</th>\n",
    "    <td style=\"text-align: left;\"> Binary</td>\n",
    "    <td style=\"text-align: left;\">Binary value true indicates that the crime occurred in the calendar month of January, otherwise false.</td>\n",
    "</tr>\n",
    "<tr><th style=\"text-align: left;\">month_2</th>\n",
    "    <td style=\"text-align: left;\"> Binary</td>\n",
    "    <td style=\"text-align: left;\">Binary value true indicates that the crime occurred in the calendar month of February, otherwise false.</td>\n",
    "</tr>\n",
    "<tr><th style=\"text-align: left;\">month_3</th>\n",
    "    <td style=\"text-align: left;\"> Binary</td>\n",
    "    <td style=\"text-align: left;\">Binary value true indicates that the crime occurred in the calendar month of March, otherwise false.</td>\n",
    "</tr>\n",
    "<tr><th style=\"text-align: left;\">month_4</th>\n",
    "    <td style=\"text-align: left;\"> Binary</td>\n",
    "    <td style=\"text-align: left;\">Binary value true indicates that the crime occurred in the calendar month of April, otherwise false.</td>\n",
    "</tr>\n",
    "<tr><th style=\"text-align: left;\">month_5</th>\n",
    "    <td style=\"text-align: left;\"> Binary</td>\n",
    "    <td style=\"text-align: left;\">Binary value true indicates that the crime occurred in the calendar month of May, otherwise false.</td>\n",
    "</tr>\n",
    "<tr><th style=\"text-align: left;\">month_6</th>\n",
    "    <td style=\"text-align: left;\"> Binary</td>\n",
    "    <td style=\"text-align: left;\">Binary value true indicates that the crime occurred in the calendar month of June, otherwise false.</td>\n",
    "</tr>\n",
    "<tr><th style=\"text-align: left;\">month_7</th>\n",
    "    <td style=\"text-align: left;\"> Binary</td>\n",
    "    <td style=\"text-align: left;\">Binary value true indicates that the crime occurred in the calendar month of July, otherwise false.</td>\n",
    "</tr>\n",
    "<tr><th style=\"text-align: left;\">month_8</th>\n",
    "    <td style=\"text-align: left;\"> Binary</td>\n",
    "    <td style=\"text-align: left;\">Binary value true indicates that the crime occurred in the calendar month of August, otherwise false.</td>\n",
    "</tr>\n",
    "<tr><th style=\"text-align: left;\">month_9</th>\n",
    "    <td style=\"text-align: left;\"> Binary</td>\n",
    "    <td style=\"text-align: left;\">Binary value true indicates that the crime occurred in the calendar month of September, otherwise false.</td>\n",
    "</tr>\n",
    "<tr><th style=\"text-align: left;\">month_10</th>\n",
    "    <td style=\"text-align: left;\"> Binary</td>\n",
    "    <td style=\"text-align: left;\">Binary value true indicates that the crime occurred in the calendar month of October, otherwise false.</td>\n",
    "</tr>\n",
    "<tr><th style=\"text-align: left;\">month_11</th>\n",
    "    <td style=\"text-align: left;\"> Binary</td>\n",
    "    <td style=\"text-align: left;\">Binary value true indicates that the crime occurred in the calendar month of November, otherwise false.</td>\n",
    "</tr>\n",
    "<tr><th style=\"text-align: left;\">month_12</th>\n",
    "    <td style=\"text-align: left;\"> Binary</td>\n",
    "    <td style=\"text-align: left;\">Binary value true indicates that the crime occurred in the calendar month of December, otherwise false.</td>\n",
    "</tr>\n",
    "\n",
    "<tr><th style=\"text-align: left;\">after_noon</th>\n",
    "    <td style=\"text-align: left;\"> Binary</td>\n",
    "    <td style=\"text-align: left;\"> Binary value true indicates that the crime occurred after noon and before or at 6 p.m.; otherwise false.</td>\n",
    "</tr>\n",
    "<tr><th style=\"text-align: left;\">before_noon</th>\n",
    "    <td style=\"text-align: left;\"> Binary</td>\n",
    "    <td style=\"text-align: left;\">Binary value true indicates that the crime occurred after 6 a.m. and before or at noon; otherwise false.</td>\n",
    "</tr>\n",
    "<tr><th style=\"text-align: left;\">evening</th>\n",
    "    <td style=\"text-align: left;\"> Binary</td>\n",
    "    <td style=\"text-align: left;\">Binary value true indicates that the crime occurred after 6pm  and before or at midnight; otherwise false. </td>\n",
    "</tr>\n",
    "<tr><th style=\"text-align: left;\">night</th>\n",
    "    <td style=\"text-align: left;\"> Binary</td>\n",
    "    <td style=\"text-align: left;\"> Binary value true indicates that the crime occurred after midnight and before or at 6 a.m.;  otherwise false.</td>\n",
    "</tr>\n",
    "\n",
    "<tr><th style=\"text-align: left;\">BRONX</th>\n",
    "    <td style=\"text-align: left;\"> Binary</td>\n",
    "    <td style=\"text-align: left;\"> Binary value true indicates that the crime occurred in the Bronx,  otherwise false.</td>\n",
    "<tr><th style=\"text-align: left;\">BROOKLYN</th>\n",
    "    <td style=\"text-align: left;\"> Binary</td>\n",
    "    <td style=\"text-align: left;\"> Binary value true indicates that the crime occurred in Brooklyn,  otherwise false.</td>\n",
    "<tr><th style=\"text-align: left;\">MANHATTAN</th>\n",
    "    <td style=\"text-align: left;\"> Binary</td>\n",
    "    <td style=\"text-align: left;\"> Binary value true indicates that the crime occurred in the Manhattan,  otherwise false.</td>\n",
    "<tr><th style=\"text-align: left;\">QUEENS</th>\n",
    "    <td style=\"text-align: left;\"> Binary</td>\n",
    "    <td style=\"text-align: left;\"> Binary value true indicates that the crime occurred in Queens,  otherwise false.</td>\n",
    "<tr><th style=\"text-align: left;\">STATEN ISLAND</th>\n",
    "    <td style=\"text-align: left;\"> Binary</td>\n",
    "    <td style=\"text-align: left;\"> Binary value true indicates that the crime occurred in Staten Island,  otherwise false.</td>     \n",
    "   \n",
    "</tr>\n",
    "<tr><th style=\"text-align: left;\">isFelony</th>\n",
    "    <td style=\"text-align: left;\"> Binary</td>\n",
    "    <td style=\"text-align: left;\"> Binary value true indicates that the crime severity level is Felony, otherwise false (i.e. is Misdemeanor or Violation level).  Used as dependent y variable for prediction Task 1 only.</td>\n",
    "</tr>\n",
    "\n",
    "</table>\n"
   ]
  },
  {
   "cell_type": "markdown",
   "metadata": {},
   "source": [
    "Final dataset used for the prediction Task 2, predicting crime victim gender isFemale:\n",
    "<table>\n",
    "<tr><th style=\"text-align: center;\">TASK 2 -- Final Data Set Attribute  </th><th style=\"text-align: center;\">Data Type</th><th style=\"text-align: center;\">Description</th></tr>\n",
    "\n",
    "<tr><th style=\"text-align: left;\">month_1</th>\n",
    "    <td style=\"text-align: left;\"> Binary</td>\n",
    "    <td style=\"text-align: left;\">Binary value true indicates that the crime occurred in the calendar month of January, otherwise false.</td>\n",
    "</tr>\n",
    "<tr><th style=\"text-align: left;\">month_2</th>\n",
    "    <td style=\"text-align: left;\"> Binary</td>\n",
    "    <td style=\"text-align: left;\">Binary value true indicates that the crime occurred in the calendar month of February, otherwise false.</td>\n",
    "</tr>\n",
    "<tr><th style=\"text-align: left;\">month_3</th>\n",
    "    <td style=\"text-align: left;\"> Binary</td>\n",
    "    <td style=\"text-align: left;\">Binary value true indicates that the crime occurred in the calendar month of March, otherwise false.</td>\n",
    "</tr>\n",
    "<tr><th style=\"text-align: left;\">month_4</th>\n",
    "    <td style=\"text-align: left;\"> Binary</td>\n",
    "    <td style=\"text-align: left;\">Binary value true indicates that the crime occurred in the calendar month of April, otherwise false.</td>\n",
    "</tr>\n",
    "<tr><th style=\"text-align: left;\">month_5</th>\n",
    "    <td style=\"text-align: left;\"> Binary</td>\n",
    "    <td style=\"text-align: left;\">Binary value true indicates that the crime occurred in the calendar month of May, otherwise false.</td>\n",
    "</tr>\n",
    "<tr><th style=\"text-align: left;\">month_6</th>\n",
    "    <td style=\"text-align: left;\"> Binary</td>\n",
    "    <td style=\"text-align: left;\">Binary value true indicates that the crime occurred in the calendar month of June, otherwise false.</td>\n",
    "</tr>\n",
    "<tr><th style=\"text-align: left;\">month_7</th>\n",
    "    <td style=\"text-align: left;\"> Binary</td>\n",
    "    <td style=\"text-align: left;\">Binary value true indicates that the crime occurred in the calendar month of July, otherwise false.</td>\n",
    "</tr>\n",
    "<tr><th style=\"text-align: left;\">month_8</th>\n",
    "    <td style=\"text-align: left;\"> Binary</td>\n",
    "    <td style=\"text-align: left;\">Binary value true indicates that the crime occurred in the calendar month of August, otherwise false.</td>\n",
    "</tr>\n",
    "<tr><th style=\"text-align: left;\">month_9</th>\n",
    "    <td style=\"text-align: left;\"> Binary</td>\n",
    "    <td style=\"text-align: left;\">Binary value true indicates that the crime occurred in the calendar month of September, otherwise false.</td>\n",
    "</tr>\n",
    "<tr><th style=\"text-align: left;\">month_10</th>\n",
    "    <td style=\"text-align: left;\"> Binary</td>\n",
    "    <td style=\"text-align: left;\">Binary value true indicates that the crime occurred in the calendar month of October, otherwise false.</td>\n",
    "</tr>\n",
    "<tr><th style=\"text-align: left;\">month_11</th>\n",
    "    <td style=\"text-align: left;\"> Binary</td>\n",
    "    <td style=\"text-align: left;\">Binary value true indicates that the crime occurred in the calendar month of November, otherwise false.</td>\n",
    "</tr>\n",
    "<tr><th style=\"text-align: left;\">month_12</th>\n",
    "    <td style=\"text-align: left;\"> Binary</td>\n",
    "    <td style=\"text-align: left;\">Binary value true indicates that the crime occurred in the calendar month of December, otherwise false.</td>\n",
    "</tr>\n",
    "\n",
    "<tr><th style=\"text-align: left;\">after_noon</th>\n",
    "    <td style=\"text-align: left;\"> Binary</td>\n",
    "    <td style=\"text-align: left;\"> Binary value true indicates that the crime occurred after noon and before or at 6 p.m.; otherwise false.</td>\n",
    "</tr>\n",
    "<tr><th style=\"text-align: left;\">before_noon</th>\n",
    "    <td style=\"text-align: left;\"> Binary</td>\n",
    "    <td style=\"text-align: left;\">Binary value true indicates that the crime occurred after 6 a.m. and before or at noon; otherwise false.</td>\n",
    "</tr>\n",
    "<tr><th style=\"text-align: left;\">evening</th>\n",
    "    <td style=\"text-align: left;\"> Binary</td>\n",
    "    <td style=\"text-align: left;\">Binary value true indicates that the crime occurred after 6pm  and before or at midnight; otherwise false. </td>\n",
    "</tr>\n",
    "<tr><th style=\"text-align: left;\">night</th>\n",
    "    <td style=\"text-align: left;\"> Binary</td>\n",
    "    <td style=\"text-align: left;\"> Binary value true indicates that the crime occurred after midnight and before or at 6 a.m.;  otherwise false.</td>\n",
    "</tr>\n",
    "\n",
    "<tr><th style=\"text-align: left;\">BRONX</th>\n",
    "    <td style=\"text-align: left;\"> Binary</td>\n",
    "    <td style=\"text-align: left;\"> Binary value true indicates that the crime occurred in the Bronx,  otherwise false.</td>\n",
    "<tr><th style=\"text-align: left;\">BROOKLYN</th>\n",
    "    <td style=\"text-align: left;\"> Binary</td>\n",
    "    <td style=\"text-align: left;\"> Binary value true indicates that the crime occurred in Brooklyn,  otherwise false.</td>\n",
    "<tr><th style=\"text-align: left;\">MANHATTAN</th>\n",
    "    <td style=\"text-align: left;\"> Binary</td>\n",
    "    <td style=\"text-align: left;\"> Binary value true indicates that the crime occurred in the Manhattan,  otherwise false.</td>\n",
    "<tr><th style=\"text-align: left;\">QUEENS</th>\n",
    "    <td style=\"text-align: left;\"> Binary</td>\n",
    "    <td style=\"text-align: left;\"> Binary value true indicates that the crime occurred in Queens,  otherwise false.</td>\n",
    "<tr><th style=\"text-align: left;\">STATEN ISLAND</th>\n",
    "    <td style=\"text-align: left;\"> Binary</td>\n",
    "    <td style=\"text-align: left;\"> Binary value true indicates that the crime occurred in Staten Island,  otherwise false.</td>     \n",
    "   \n",
    "</tr>\n",
    "</tr></tr><tr><th style=\"text-align: left;\">isFemale</th>\n",
    "    <td style=\"text-align: left;\"> Binary</td>\n",
    "    <td style=\"text-align: left;\"> Binary value true indicates that the crime victim is Female, otherwise false (i.e. is male).  Used as dependent y variable for prediction Task 2 only.</td>\n",
    "</tr>\n",
    "</table>\n"
   ]
  },
  {
   "cell_type": "markdown",
   "metadata": {},
   "source": [
    "<a id=\"#Modeling_and_Evaluation_2\"></a>\n",
    "\n",
    "<a href=\"#top\">Back to Top</a>\n",
    "\n",
    "### Modeling_and_Evaluation_1 \n"
   ]
  },
  {
   "cell_type": "markdown",
   "metadata": {},
   "source": [
    "- While the IsFemale attribute classes are well-balanced, with about 54% Female and 46% not Female, the IsFelony attribute classes are not.  \n",
    "- The IsFelony's class imbalance of nearly 67% Non Felonies to 33% Felonies provides evidence as to why model Accuracy alone is not the appropriate choice for a model evaluation metric. \n",
    "- While Precision and Recall both look at how the model classifies a True Positive, or Felonies, in our case, a mixture of both is probably the best approach. \n",
    "- Therefore, F1 is the most appropriate as the metric of choice for evaluating Models used to classify Felonies with the existing dataset. As you can see from the formulae below, F1 captures both methods of evaluating actual Felonies, and strikes the proper balance to appropriately measure model performance.\n",
    "\n",
    "- This F-measure will be a number between 0 and 1, where it being closer to 1 is better, and it approaching 0 is worse. F1 overcomes the limitations of Accuracy whenever false positives and false negatives are not about equal or symmetric."
   ]
  },
  {
   "cell_type": "markdown",
   "metadata": {},
   "source": [
    "$$ Precision =\\frac{True Positives}{True Positives + False Positives}$$"
   ]
  },
  {
   "cell_type": "markdown",
   "metadata": {},
   "source": [
    "$$\n",
    "Recall = \\frac{TruePostives}{TruePostives + FalseNegatives}\n",
    "$$"
   ]
  },
  {
   "cell_type": "markdown",
   "metadata": {},
   "source": [
    "$$\n",
    "F_{1} = 2 * \\frac{precision * recall}{precision + recall}\n",
    "$$\n"
   ]
  },
  {
   "cell_type": "markdown",
   "metadata": {},
   "source": [
    "<a id=\"#Modeling_and_Evaluation_2\"></a>\n",
    "\n",
    "<a href=\"#top\">Back to Top</a>\n",
    "\n",
    "### Modeling_and_Evaluation_2 \n"
   ]
  },
  {
   "cell_type": "markdown",
   "metadata": {},
   "source": [
    "### Cross Validation Techniques Overview\n",
    "\n",
    "  #### Shuffle Split\n",
    "  The Shuffle Split technique is a random permutation cross-validator. It returns the indices to be used for splitting the data into training and test sets.\n",
    "\n",
    "  #### Stratified K-Fold\n",
    "  In Stratified K-Fold cross-validation, the folds are selected such that the mean response value is approximately equal in all the folds. In the case of a dichotomous classification, this means that each fold contains roughly the same proportions of the two types of class labels.\n",
    "\n",
    "  #### Stratified Shuffle Split\n",
    "The Stratified Shuffle Split cross validation iterator was chosen for the purpose of dividing the data into training and testing data sets. It provides train/test indices to split the data into the train and test sets. This cross-validation method is a merge of the Stratified K-Fold and Shuffle Split iterators, which returns stratified randomized folds. The folds are made by preserving the percentage of samples for each class.\n",
    "\n",
    "  The key difference between Stratified K-Fold and Stratified Shuffle Split pertains to whether there is overlap of the resulting test sets.  \n",
    "  - Stratified K-Fold only shuffles and splits once, therefore the test sets do not overlap.\n",
    "  - StratifiedShuffleSplit shuffles each time before splitting, and it splits n_splits times, therefore the resulting test sets can overlap."
   ]
  },
  {
   "cell_type": "markdown",
   "metadata": {},
   "source": [
    "### Data Split and Cross Validation Utilized for Task 1 and Task 2 Models\n",
    "\n",
    "- We have chosen StratifiedShuffleSplit for all Task 1 and Task 2 models to effectively evaluate our model performance. \n",
    "- We split our data into training & test sets using an 80/20 split.  Our data set is large enough that an 80/20 split for training and test sets is appropriate. We expect that the 80/20 ratio provides a sufficient number of data points to train each model.\n",
    "\n",
    "\n",
    "- Stratification is extremely important in this dataset, since the majority of our features are binary as a result of the one-hot encoding operation. Each of these features seems to be extremely imbalanced, therefore a stratified selection process will ensure that under-represented feature classes will be properly represented in both the test and training datasets. The 10-fold cross-validation will minimize the possibility of overfitting and minimize bias by performing 10 models tests on slightly different subsets of the data. 10 is chosen for k since it is a routinely accepted practice in Machine Learning applications and would produce slightly less bias than the other commonly accepted value of k being 5.\n",
    "- To ensure that we choose the most appropriate parameters for each model we use sklearn's GridSearchCV with a 10 fold cross validation, thereby identifying the best estimators based on the F1 scores. This approach is a dynamic method of testing out a variety of model parameters.\n",
    "\n",
    "\n",
    "- In addition, we will normalize the scalar prediction data to facilitate noise reduction. "
   ]
  },
  {
   "cell_type": "markdown",
   "metadata": {},
   "source": [
    "<a id=\"#Modeling_and_Evaluation_3\"></a>\n",
    "\n",
    "<a href=\"#top\">Back to Top</a>\n",
    "\n",
    "### Modeling_and_Evaluation_3 \n",
    "\n",
    "We will compare the following three model types for both Task1 and Task2:\n",
    "\n",
    "- Logistic Regression\n",
    "- K Nearest Neighbor\n",
    "- Random Forest"
   ]
  },
  {
   "cell_type": "markdown",
   "metadata": {},
   "source": [
    "\n",
    "\n",
    "### Modeling_and_Evaluation_3_Task1 \n",
    "\n",
    "- For Task1 we predict whether the Crime severity level is a Felony or a non-Felony.\n",
    "- We explore the following three model types with the goal of classifying the likelihood of crimes to be Felonies:\n",
    "    - Logistic Regression\n",
    "    - K-Nearest Neighbor\n",
    "    - Random Forest\n"
   ]
  },
  {
   "cell_type": "code",
   "execution_count": 64,
   "metadata": {},
   "outputs": [
    {
     "name": "stdout",
     "output_type": "stream",
     "text": [
      "StratifiedShuffleSplit(n_splits=10, random_state=0, test_size=0.2,\n",
      "            train_size=None)\n",
      "done\n"
     ]
    }
   ],
   "source": [
    "# Preparation\n",
    "#from sklearn.model_selection import StratifiedShuffleSplit\n",
    "\n",
    "# we want to predict the X and y data as follows:\n",
    "if 'IsFelony' in features:\n",
    "    y = features['IsFelony'].values # get the IsFelony we want\n",
    "    del features['IsFelony'] # get rid of the class IsFelony\n",
    "    X = features.values # use everything else to predict!\n",
    "\n",
    "# This object will be able to split our data into training and testing splits\n",
    "num_cv_iterations = 10\n",
    "cv_object = StratifiedShuffleSplit(n_splits=num_cv_iterations,\n",
    "                         test_size  = 0.2, random_state=0)\n",
    "                         \n",
    "print(cv_object)\n",
    "print(\"done\")"
   ]
  },
  {
   "cell_type": "code",
   "execution_count": 65,
   "metadata": {},
   "outputs": [
    {
     "name": "stdout",
     "output_type": "stream",
     "text": [
      "done\n"
     ]
    }
   ],
   "source": [
    "# Preparation continued..\n",
    "#from sklearn import metrics as mt\n",
    "#from sklearn.metrics import accuracy_score, f1_score, precision_score, recall_score, classification_report, confusion_matrix\n",
    "\n",
    "iter_num=0\n",
    "# the indices are the rows used for training and testing in each iteration\n",
    "for train_indices, test_indices in cv_object.split(X,y): \n",
    "    X_train = X[train_indices]\n",
    "    y_train = y[train_indices]\n",
    "    \n",
    "    X_test = X[test_indices]\n",
    "    y_test = y[test_indices]\n",
    "    \n",
    "# scale attributes by the training set\n",
    "scl_obj = StandardScaler()\n",
    "scl_obj.fit(X_train)\n",
    "X_train_scaled = scl_obj.transform(X_train) # apply to training\n",
    "X_test_scaled = scl_obj.transform(X_test)\n",
    "    \n",
    "print(\"done\")"
   ]
  },
  {
   "cell_type": "markdown",
   "metadata": {},
   "source": [
    "\n",
    "### ***Logistic Regression Model for Task1***\n",
    "- Logistic regression is a statistical method for analyzing a dataset in which there are one or more independent variables that determine an outcome. The outcome is measured with a dichotomous variable (i.e. there are only two possible outcomes). It is regarded as the go-to method for binary classification problems.\n",
    "\n",
    "\n",
    "- We use the GridSearchCV module to test different parameters and identify the best parameters to utilize for the Logistic Regression model.\n",
    "\n",
    "\n",
    "- Performance time is 25.4 ms\n",
    "\n",
    "\n",
    "- Note:  please see section Modeling_and_Evaluation_4 for metric discussions for both Task 1 and Task 2\n"
   ]
  },
  {
   "cell_type": "code",
   "execution_count": 66,
   "metadata": {},
   "outputs": [],
   "source": [
    "# run logistic regression and vary some parameters\n",
    "lgs_clf = LogisticRegression(penalty='l2', C=1.0, class_weight=None)"
   ]
  },
  {
   "cell_type": "code",
   "execution_count": 67,
   "metadata": {},
   "outputs": [
    {
     "name": "stdout",
     "output_type": "stream",
     "text": [
      "Fitting 10 folds for each of 24 candidates, totalling 240 fits\n"
     ]
    },
    {
     "name": "stderr",
     "output_type": "stream",
     "text": [
      "[Parallel(n_jobs=-1)]: Done 144 tasks      | elapsed:    7.1s\n",
      "[Parallel(n_jobs=-1)]: Done 240 out of 240 | elapsed:   13.7s finished\n"
     ]
    },
    {
     "data": {
      "text/plain": [
       "GridSearchCV(cv=StratifiedShuffleSplit(n_splits=10, random_state=0, test_size=0.2,\n",
       "            train_size=None),\n",
       "       error_score='raise',\n",
       "       estimator=LogisticRegression(C=1.0, class_weight=None, dual=False, fit_intercept=True,\n",
       "          intercept_scaling=1, max_iter=100, multi_class='ovr', n_jobs=1,\n",
       "          penalty='l2', random_state=None, solver='liblinear', tol=0.0001,\n",
       "          verbose=0, warm_start=False),\n",
       "       fit_params=None, iid=True, n_jobs=-1,\n",
       "       param_grid={'penalty': ['l2'], 'C': [0.001, 0.01, 0.1, 1, 10, 100], 'class_weight': ['balanced'], 'random_state': [0], 'solver': ['lbfgs', 'sag'], 'max_iter': [4000, 10000]},\n",
       "       pre_dispatch='2*n_jobs', refit=True, return_train_score='warn',\n",
       "       scoring='f1', verbose=1)"
      ]
     },
     "execution_count": 67,
     "metadata": {},
     "output_type": "execute_result"
    }
   ],
   "source": [
    "# grid search for the best model\n",
    "parameters = { 'penalty':['l2']\n",
    "              ,'C': [0.001, 0.01, 0.1, 1, 10, 100]\n",
    "              ,'class_weight': ['balanced']\n",
    "              ,'random_state': [0]\n",
    "              ,'solver': ['lbfgs','sag']\n",
    "              ,'max_iter':[4000, 10000]\n",
    "             }\n",
    "\n",
    "#Create a grid search object using the  \n",
    "regGridSearch = GridSearchCV(estimator=lgs_clf \n",
    "                   , n_jobs=-1 # Use all possible cores to run in parallel\n",
    "                   , verbose=1 # low verbosity\n",
    "                   , param_grid=parameters\n",
    "                   , cv=cv_object # KFolds = 10\n",
    "                   , scoring='f1')\n",
    "\n",
    "#Perform hyperparameter search to find the best combination of parameters for our scaled data\n",
    "regGridSearch.fit(X_train_scaled, y_train)"
   ]
  },
  {
   "cell_type": "code",
   "execution_count": 68,
   "metadata": {},
   "outputs": [
    {
     "name": "stdout",
     "output_type": "stream",
     "text": [
      "LogisticRegression(C=0.001, class_weight='balanced', dual=False,\n",
      "          fit_intercept=True, intercept_scaling=1, max_iter=4000,\n",
      "          multi_class='ovr', n_jobs=1, penalty='l2', random_state=0,\n",
      "          solver='lbfgs', tol=0.0001, verbose=0, warm_start=False)\n",
      "\n",
      "The best F1 score from the search is: 0.39041501147889557\n"
     ]
    }
   ],
   "source": [
    "#Diplay the top model parameters\n",
    "print(regGridSearch.best_estimator_)\n",
    "\n",
    "print('\\nThe best F1 score from the search is:', regGridSearch.best_score_ )"
   ]
  },
  {
   "cell_type": "code",
   "execution_count": 69,
   "metadata": {},
   "outputs": [
    {
     "name": "stdout",
     "output_type": "stream",
     "text": [
      "*********************************************************\n",
      "Average accuracy for all cv folds is: \t 0.58426\n",
      "Average precision for all cv folds is: \t 0.38334\n",
      "Average recall for all cv folds is: \t 0.39839\n",
      "Average F1 for all cv folds is: \t 0.39042\n",
      "*********************************************************\n"
     ]
    }
   ],
   "source": [
    "#Use the best parameters for our Linear Regression object\n",
    "classifierEst = regGridSearch.best_estimator_\n",
    "\n",
    "bestScores = cross_validate(classifierEst\n",
    "                            ,X_train_scaled\n",
    "                            ,y_train,scoring=['accuracy','precision','recall','f1']\n",
    "                            , cv=cv_object\n",
    "                            , return_train_score=True)\n",
    "\n",
    "avgAccuracy = bestScores['test_accuracy'].mean()\n",
    "avgPrecision = bestScores['test_precision'].mean()\n",
    "avgRecall = bestScores['test_recall'].mean()\n",
    "avgF1 = bestScores['test_f1'].mean()\n",
    "\n",
    "\n",
    "avgAccStr = \"Average accuracy for all cv folds is: \\t {avgAccuracy:.5}\"\n",
    "avgPrcStr = \"Average precision for all cv folds is: \\t {avgPrecision:.5}\"\n",
    "avgRecStr = \"Average recall for all cv folds is: \\t {avgRecall:.5}\"\n",
    "avgF1Str = \"Average F1 for all cv folds is: \\t {avgF1:.5}\"\n",
    "\n",
    "print('*********************************************************')\n",
    "print(avgAccStr.format(avgAccuracy=avgAccuracy))\n",
    "print(avgPrcStr.format(avgPrecision=avgPrecision))\n",
    "print(avgRecStr.format(avgRecall=avgRecall))\n",
    "print(avgF1Str.format(avgF1=avgF1))\n",
    "print('*********************************************************')"
   ]
  },
  {
   "cell_type": "code",
   "execution_count": 70,
   "metadata": {},
   "outputs": [
    {
     "name": "stdout",
     "output_type": "stream",
     "text": [
      "F1 score with GridSearch Parameters: 0.40348050273928454\n",
      "Confusion matrix for Logistic Regression with GridSearch Parameters\n",
      "     pred_neg  pred_pos\n",
      "neg      1939      1000\n",
      "pos       851       626\n",
      "CPU times: user 58.5 ms, sys: 14.1 ms, total: 72.6 ms\n",
      "Wall time: 26.6 ms\n"
     ]
    }
   ],
   "source": [
    "%%time\n",
    "# Logistic evaluation on the Test data\n",
    "# Train the Grid Search Estimator using the whole scaled train data\n",
    "classifierEst.fit(X_train_scaled,y_train)\n",
    "\n",
    "# Predict using the scaled test data.\n",
    "y_hat_lgs = classifierEst.predict(X_test_scaled)\n",
    "\n",
    "#Evaluat the scores for the logistic regresion\n",
    "conf_SearchGrid=mt.confusion_matrix(y_test,y_hat_lgs)\n",
    "acc_SearchGrid = mt.accuracy_score(y_test,y_hat_lgs)\n",
    "prec_SearchGrid = mt.precision_score(y_test,y_hat_lgs)\n",
    "f1_SearchGrid = mt.f1_score(y_test,y_hat_lgs)\n",
    "\n",
    "print (\"F1 score with GridSearch Parameters:\", f1_SearchGrid)\n",
    "print (\"Confusion matrix for Logistic Regression with GridSearch Parameters\")\n",
    "print(pd.DataFrame(mt.confusion_matrix(y_test,y_hat_lgs),\n",
    "             columns=['pred_neg', 'pred_pos'], index=['neg', 'pos']))"
   ]
  },
  {
   "cell_type": "code",
   "execution_count": 71,
   "metadata": {},
   "outputs": [
    {
     "name": "stdout",
     "output_type": "stream",
     "text": [
      "[0.65974821 0.42383209]\n"
     ]
    },
    {
     "data": {
      "image/png": "[encoded data removed]",
      "text/plain": [
       "<Figure size 576x396 with 1 Axes>"
      ]
     },
     "metadata": {},
     "output_type": "display_data"
    }
   ],
   "source": [
    "#based on Confusion Matrix\n",
    "print(per_class_accuracy(y_test,y_hat_lgs))\n",
    "plot_class_acc(y_test,y_hat_lgs, \"Felony\",title=\"Logistic Regression\")"
   ]
  },
  {
   "cell_type": "code",
   "execution_count": 72,
   "metadata": {},
   "outputs": [
    {
     "data": {
      "image/png": "[encoded data removed]",
      "text/plain": [
       "<Figure size 576x396 with 1 Axes>"
      ]
     },
     "metadata": {},
     "output_type": "display_data"
    }
   ],
   "source": [
    "from yellowbrick.classifier import ROCAUC\n",
    "\n",
    "# Instantiate the classification model and visualizer\n",
    "logistic = LogisticRegression()\n",
    "visualizer = ROCAUC(logistic)\n",
    "\n",
    "visualizer.fit(X_train_scaled, y_train)  # Fit the scaled training data to the visualizer\n",
    "visualizer.score(X_test_scaled, y_test)  # Evaluate the model on the scaled test data\n",
    "g = visualizer.poof()"
   ]
  },
  {
   "cell_type": "markdown",
   "metadata": {},
   "source": [
    "### ***K-Nearest Neighbor Model for Task1***\n",
    "- K-Nearest Neighbors is for the prediction of values based on training their nearest neighbors by a certain n_neighbors count in order to form classification models to predict the y_hat for the test set. \n",
    "\n",
    "- When n_neighbors is 5, the F1 metric is highest at 0.4024 and Performance time 2.26 s."
   ]
  },
  {
   "cell_type": "code",
   "execution_count": 73,
   "metadata": {},
   "outputs": [
    {
     "name": "stdout",
     "output_type": "stream",
     "text": [
      "Fitting 10 folds for each of 4 candidates, totalling 40 fits\n"
     ]
    },
    {
     "name": "stderr",
     "output_type": "stream",
     "text": [
      "[Parallel(n_jobs=-1)]: Done  40 out of  40 | elapsed:  1.3min finished\n"
     ]
    },
    {
     "name": "stdout",
     "output_type": "stream",
     "text": [
      "The best estimator based on F1 is  KNeighborsClassifier(algorithm='auto', leaf_size=30, metric='minkowski',\n",
      "           metric_params=None, n_jobs=1, n_neighbors=5, p=2,\n",
      "           weights='uniform')\n"
     ]
    }
   ],
   "source": [
    "knnEstimator = KNeighborsClassifier()\n",
    "cvl = cv_object\n",
    "\n",
    "parameters = {'n_neighbors': [3,5,7,11]}\n",
    "\n",
    "#Create a grid search object using the parameters  \n",
    "svcGridSearch = GridSearchCV(estimator=knnEstimator\n",
    "                    , n_jobs=-1 # jobs to run in parallel\n",
    "                    , verbose=1 # low verbosity\n",
    "                    , param_grid=parameters\n",
    "                    , cv=cvl # KFolds = 10\n",
    "                    , scoring='f1')\n",
    "\n",
    "svcGridSearch.fit(X_train_scaled, y_train)  #used scaled train data\n",
    "print(\"The best estimator based on F1 is \", svcGridSearch.best_estimator_)\n",
    "knn_clf = svcGridSearch.best_estimator_"
   ]
  },
  {
   "cell_type": "code",
   "execution_count": 74,
   "metadata": {},
   "outputs": [
    {
     "name": "stdout",
     "output_type": "stream",
     "text": [
      "KNeighborsClassifier(algorithm='auto', leaf_size=30, metric='minkowski',\n",
      "           metric_params=None, n_jobs=1, n_neighbors=5, p=2,\n",
      "           weights='uniform')\n",
      "Accuracy 0.5226449275362319\n",
      "Confusion matrix:\n",
      "[[1598 1341]\n",
      " [ 767  710]]\n",
      "f1_score: 0.40249433106575966\n",
      "Precision: 0.3461725987323257\n",
      "Recall: 0.48070412999322953\n",
      "CPU times: user 2.18 s, sys: 6.38 ms, total: 2.19 s\n",
      "Wall time: 2.17 s\n"
     ]
    }
   ],
   "source": [
    "%%time\n",
    "print(knn_clf)\n",
    "\n",
    "clf = knn_clf\n",
    "\n",
    "clf.fit(X_train_scaled,y_train)        #used scaled train data\n",
    "yhat_knn = clf.predict(X_test_scaled)   #used scaled test data\n",
    "    \n",
    "total_accuracy = mt.accuracy_score(y_test, yhat_knn)\n",
    "print ('Accuracy', total_accuracy)\n",
    "conf = mt.confusion_matrix(y_test,yhat_knn)\n",
    "print('Confusion matrix:')\n",
    "print(conf)\n",
    "print('f1_score:', f1_score(y_test, yhat_knn))\n",
    "print('Precision:', precision_score(y_test, yhat_knn))\n",
    "print('Recall:', recall_score(y_test, yhat_knn))"
   ]
  },
  {
   "cell_type": "code",
   "execution_count": 75,
   "metadata": {
    "scrolled": false
   },
   "outputs": [
    {
     "name": "stdout",
     "output_type": "stream",
     "text": [
      "[0.54372235 0.48070413]\n"
     ]
    },
    {
     "data": {
      "image/png": "[encoded data removed]",
      "text/plain": [
       "<Figure size 576x396 with 1 Axes>"
      ]
     },
     "metadata": {},
     "output_type": "display_data"
    }
   ],
   "source": [
    "#based on Confusion Matrix\n",
    "print(per_class_accuracy(y_test,yhat_knn))\n",
    "plot_class_acc(y_test,yhat_knn, \"Felony\",title=\"KNN\")"
   ]
  },
  {
   "cell_type": "markdown",
   "metadata": {},
   "source": [
    "### ***Random Forest for Task1***\n",
    "- Random forest is for the prediction of values based on training decision trees by by a certain max depth in order to form classification models to predict the y_hat for the test set. \n",
    "\n",
    "\n",
    "- Optimization results of F1 for different test values of \"max_depth\" are printed below. \n",
    "- Per the below \"max_depth\" results value list and the associated line graph, when max_depth is at 51, the F1 metric value starts to plateau at 0.5574.\n",
    "- Performance time is 15.3s."
   ]
  },
  {
   "cell_type": "code",
   "execution_count": 76,
   "metadata": {},
   "outputs": [
    {
     "name": "stdout",
     "output_type": "stream",
     "text": [
      "max_depth: 1 F1 score: 0.5317491679157905\n",
      "max_depth: 51 F1 score: 0.5573105801991598\n",
      "max_depth: 101 F1 score: 0.5573105801991598\n",
      "max_depth: 151 F1 score: 0.5573105801991598\n",
      "max_depth: 201 F1 score: 0.5573105801991598\n",
      "max_depth: 251 F1 score: 0.5573105801991598\n",
      "max_depth: 301 F1 score: 0.5573105801991598\n",
      "max_depth: 351 F1 score: 0.5573105801991598\n",
      "Average F1 score: 0.55 (+/- 0.02)\n",
      "Average Accuracy 0.6666175937669867\n",
      "Average Precision: 0.45853365384615385\n",
      "Average Recall: 0.03873883021933387\n",
      "Confusion matrix:\n",
      "[[14393   297]\n",
      " [ 7059   327]]\n",
      "CPU times: user 15.2 s, sys: 50.2 ms, total: 15.2 s\n",
      "Wall time: 15.2 s\n"
     ]
    },
    {
     "data": {
      "image/png": "[encoded data removed]",
      "text/plain": [
       "<Figure size 576x396 with 1 Axes>"
      ]
     },
     "metadata": {},
     "output_type": "display_data"
    }
   ],
   "source": [
    "%%time\n",
    "#Not using GridSearch here\n",
    "result = []\n",
    "index = []\n",
    "f_one_scores = []\n",
    "accuracy_scores = []\n",
    "precision_scores = []\n",
    "recall_scores = []\n",
    "\n",
    "for max_depth in range(1, 401)[::50]:\n",
    "    yhat_r = np.zeros(y.shape, dtype=int) # we will fill this with predictions\n",
    "    skf = StratifiedShuffleSplit(n_splits=10, test_size=0.2, random_state=0)\n",
    "    for rf_train_index, rf_test_index in skf.split(X, y):\n",
    "        X_rf_train, X_rf_test = X[rf_train_index], X[rf_test_index]\n",
    "        y_rf_train, y_rf_test = y[rf_train_index], y[rf_test_index]\n",
    "        rclf = RandomForestClassifier(max_depth=max_depth,random_state=0, n_estimators=40)\n",
    "        rclf.fit(X_rf_train, y_rf_train)            \n",
    "        yhat_r[rf_test_index] = rclf.predict(X_rf_test)        \n",
    "    f1_score = mt.f1_score(y, yhat_r, average='weighted')\n",
    "    f_one_scores.append(f1_score)\n",
    "    print ('max_depth:', max_depth, 'F1 score:', f1_score)\n",
    "    accuracy = mt.accuracy_score(y, yhat_r)\n",
    "    accuracy_scores.append(accuracy)\n",
    "    precision = precision_score(y, yhat_r )\n",
    "    precision_scores.append(precision)\n",
    "    recall = recall_score(y, yhat_r )\n",
    "    recall_scores.append(recall)\n",
    "    result.append(f1_score)\n",
    "    index.append(max_depth)\n",
    "\n",
    "\n",
    "f_one_scores = np.array(f_one_scores)\n",
    "print(\"Average F1 score: %0.2f (+/- %0.2f)\" % (f_one_scores.mean(), f_one_scores.std() * 2))\n",
    "\n",
    "accuracy_scores = np.array(accuracy_scores)\n",
    "print ('Average Accuracy', accuracy_scores.mean())\n",
    "\n",
    "precision_scores = np.array(precision_scores)\n",
    "print('Average Precision:', precision_scores.mean())\n",
    "\n",
    "recall_scores = np.array(recall_scores)\n",
    "print('Average Recall:', recall_scores.mean())\n",
    "\n",
    "conf = mt.confusion_matrix(y,yhat_r )\n",
    "print('Confusion matrix:')\n",
    "print(conf)\n",
    "\n",
    "plt.title('F1 score for different max_depth')\n",
    "pd.Series(result, index=pd.Index(index, name='max_depth'), name='f1_score').plot();"
   ]
  },
  {
   "cell_type": "code",
   "execution_count": 77,
   "metadata": {},
   "outputs": [],
   "source": [
    "y_hat_rf_score1 =  rclf.predict_proba(X_rf_test)\n",
    "\n",
    "fpr1 = dict()\n",
    "tpr1 = dict()\n",
    "roc_auc1 = dict()\n",
    "\n",
    "fpr1['RF'], tpr1['RF'], _ = mt.roc_curve(y_rf_test, y_hat_rf_score1[:,1], pos_label=1)\n",
    "roc_auc1['RF'] = mt.auc(fpr1['RF'], tpr1['RF'])"
   ]
  },
  {
   "cell_type": "code",
   "execution_count": 78,
   "metadata": {
    "scrolled": true
   },
   "outputs": [
    {
     "data": {
      "image/png": "[encoded data removed]",
      "text/plain": [
       "<Figure size 576x432 with 1 Axes>"
      ]
     },
     "metadata": {},
     "output_type": "display_data"
    }
   ],
   "source": [
    "lw=1\n",
    "plt.figure(figsize=(8,6))\n",
    "plt.plot(fpr1['RF'], tpr1['RF'], label='Task I: RF - Is Felony  (area = {0:0.2f})'.format( roc_auc1['RF']))\n",
    "#plt.plot(fpr1['KNN'], tpr1['KNN'], label='Task I: K-Nearest Neighbor - Is Felony (area = {0:0.2f})'.format( roc_auc1['KNN']))\n",
    "#plt.plot(fpr1['RandomForest'], tpr1['RandomForest'], label='Task I: RandomForest - Is Felony  (area = {0:0.2f})'.format( roc_auc1['RandomForest']))\n",
    "plt.plot([0, 1], [0, 1], color='navy', lw=lw, linestyle='--')\n",
    "\n",
    "\n",
    "plt.legend(loc=\"lower right\")  \n",
    "plt.xlabel('False Positive Rate')\n",
    "plt.ylabel('True Positive Rate')\n",
    "plt.show()\n"
   ]
  },
  {
   "cell_type": "markdown",
   "metadata": {},
   "source": [
    "<a id=\"#Modeling_and_Evaluation_3_Task2\"></a>\n",
    "\n",
    "<a href=\"#top\">Back to Top</a>\n",
    "### Modeling_and_Evaluation_3_Task2\n",
    "\n",
    "- For Task2 we predict whether the Crime Victim is Female.\n",
    "- We explore the following three model types with the goal of classifying the likelihood of the crime victim being Female:\n",
    "    - Logistic Regression\n",
    "    - K-Nearest Neighbor\n",
    "    - Random Forest"
   ]
  },
  {
   "cell_type": "code",
   "execution_count": 79,
   "metadata": {},
   "outputs": [
    {
     "name": "stdout",
     "output_type": "stream",
     "text": [
      "done\n"
     ]
    }
   ],
   "source": [
    "# preparation for Task 2\n",
    "# we want to predict the X2 and y2 data as follows:\n",
    "if 'IsFemale' in newFeatures:\n",
    "    y2 = newFeatures['IsFemale'].values # get the IsFemale we want\n",
    "    del newFeatures['IsFemale'] # get rid of the class IsFemale\n",
    "    X2 = newFeatures.values # use everything else to predict!\n",
    "\n",
    "iter_num=0\n",
    "# the indices are the rows used for training and testing in each iteration\n",
    "for train_indices2, test_indices2 in cv_object.split(X2,y2): \n",
    "    X_train2 = X2[train_indices2]\n",
    "    y_train2 = y2[train_indices2]\n",
    "    \n",
    "    X_test2 = X2[test_indices]\n",
    "    y_test2 = y2[test_indices]\n",
    "    \n",
    "# scale attributes by the training set\n",
    "scl_obj = StandardScaler()\n",
    "scl_obj.fit(X_train2)\n",
    "X_train_scaled2 = scl_obj.transform(X_train2) # apply to training\n",
    "X_test_scaled2 = scl_obj.transform(X_test2)\n",
    "    \n",
    "print(\"done\")"
   ]
  },
  {
   "cell_type": "markdown",
   "metadata": {},
   "source": [
    "###  ***Logistic Regression for Task2***\n",
    "\n",
    "- We use the GridSearchCV module to test different parameters and identify the best parameters to utilize for the Logistic Regression model.\n",
    "\n",
    "\n",
    "- Performance time is 98.4 ms\n",
    "\n",
    "\n",
    "- Note: please see section Modeling_and_Evaluation_4 for metric discussions for both Task 1 and Task 2"
   ]
  },
  {
   "cell_type": "code",
   "execution_count": 80,
   "metadata": {},
   "outputs": [],
   "source": [
    "lgs_clf2 = LogisticRegression(penalty='l2', C=1.0, class_weight=None)"
   ]
  },
  {
   "cell_type": "code",
   "execution_count": 81,
   "metadata": {},
   "outputs": [
    {
     "name": "stdout",
     "output_type": "stream",
     "text": [
      "Fitting 10 folds for each of 24 candidates, totalling 240 fits\n"
     ]
    },
    {
     "name": "stderr",
     "output_type": "stream",
     "text": [
      "[Parallel(n_jobs=-1)]: Done 240 out of 240 | elapsed:   10.5s finished\n"
     ]
    },
    {
     "data": {
      "text/plain": [
       "GridSearchCV(cv=StratifiedShuffleSplit(n_splits=10, random_state=0, test_size=0.2,\n",
       "            train_size=None),\n",
       "       error_score='raise',\n",
       "       estimator=LogisticRegression(C=1.0, class_weight=None, dual=False, fit_intercept=True,\n",
       "          intercept_scaling=1, max_iter=100, multi_class='ovr', n_jobs=1,\n",
       "          penalty='l2', random_state=None, solver='liblinear', tol=0.0001,\n",
       "          verbose=0, warm_start=False),\n",
       "       fit_params=None, iid=True, n_jobs=-1,\n",
       "       param_grid={'penalty': ['l2'], 'C': [0.001, 0.01, 0.1, 1, 10, 100], 'class_weight': ['balanced'], 'random_state': [0], 'solver': ['lbfgs', 'sag'], 'max_iter': [4000, 10000]},\n",
       "       pre_dispatch='2*n_jobs', refit=True, return_train_score='warn',\n",
       "       scoring='f1', verbose=1)"
      ]
     },
     "execution_count": 81,
     "metadata": {},
     "output_type": "execute_result"
    }
   ],
   "source": [
    "# grid search for the best model\n",
    "parameters2 = { 'penalty':['l2']\n",
    "              ,'C': [ 0.001, 0.01, 0.1, 1, 10, 100]\n",
    "              ,'class_weight': ['balanced']\n",
    "              ,'random_state': [0]\n",
    "              ,'solver': ['lbfgs','sag']\n",
    "              ,'max_iter':[4000, 10000]\n",
    "             }\n",
    "\n",
    "#Create a grid search object using the  \n",
    "regGridSearch2 = GridSearchCV(estimator=lgs_clf2 \n",
    "                   , n_jobs=-1 # Use all possible jobs to run in parallel\n",
    "                   , verbose=1 # low verbosity\n",
    "                   , param_grid=parameters2\n",
    "                   , cv=cv_object # KFolds = 10\n",
    "                   , scoring='f1')\n",
    "\n",
    "#Perform hyperparameter search to find the best combination of parameters for our scaled data\n",
    "regGridSearch2.fit(X_train_scaled2, y_train2)"
   ]
  },
  {
   "cell_type": "code",
   "execution_count": 82,
   "metadata": {},
   "outputs": [
    {
     "name": "stdout",
     "output_type": "stream",
     "text": [
      "LogisticRegression(C=0.001, class_weight='balanced', dual=False,\n",
      "          fit_intercept=True, intercept_scaling=1, max_iter=4000,\n",
      "          multi_class='ovr', n_jobs=1, penalty='l2', random_state=0,\n",
      "          solver='lbfgs', tol=0.0001, verbose=0, warm_start=False)\n",
      "\n",
      "The best f1 score from the search is: 0.5623154603900478\n"
     ]
    }
   ],
   "source": [
    "#Diplay the top model parameters\n",
    "print(regGridSearch2.best_estimator_)\n",
    "\n",
    "print('\\nThe best f1 score from the search is:', regGridSearch2.best_score_ )"
   ]
  },
  {
   "cell_type": "code",
   "execution_count": 83,
   "metadata": {},
   "outputs": [
    {
     "name": "stdout",
     "output_type": "stream",
     "text": [
      "*********************************************************\n",
      "Average accuracy for all cv folds is: \t 0.53446\n",
      "Average precision for all cv folds is: \t 0.57046\n",
      "Average recall for all cv folds is: \t 0.55619\n",
      "Average fone for all cv folds is: \t 0.56232\n",
      "*********************************************************\n"
     ]
    }
   ],
   "source": [
    "#Use the best parameters for our Linear Regression object\n",
    "classifierEst2 = regGridSearch2.best_estimator_\n",
    "\n",
    "bestScores2 = cross_validate(classifierEst2,X_train_scaled2\n",
    "                             ,y_train2\n",
    "                             ,scoring=['accuracy','precision','recall', 'f1']\n",
    "                             , cv=cv_object\n",
    "                             , return_train_score=True)\n",
    "\n",
    "avgAccuracy2 = bestScores2['test_accuracy'].mean()\n",
    "avgPrecision2 = bestScores2['test_precision'].mean()\n",
    "avgRecall2 = bestScores2['test_recall'].mean()\n",
    "avgFone2 = bestScores2['test_f1'].mean()\n",
    "\n",
    "avgAccStr2 = \"Average accuracy for all cv folds is: \\t {avgAccuracy2:.5}\"\n",
    "avgPrcStr2 = \"Average precision for all cv folds is: \\t {avgPrecision2:.5}\"\n",
    "avgRecStr2 = \"Average recall for all cv folds is: \\t {avgRecall2:.5}\"\n",
    "avgFoneStr2 = \"Average fone for all cv folds is: \\t {avgFone2:.5}\"\n",
    "\n",
    "print('*********************************************************')\n",
    "print(avgAccStr2.format(avgAccuracy2=avgAccuracy2))\n",
    "print(avgPrcStr2.format(avgPrecision2=avgPrecision2))\n",
    "print(avgRecStr2.format(avgRecall2=avgRecall2))\n",
    "print(avgFoneStr2.format(avgFone2=avgFone2))\n",
    "print('*********************************************************')"
   ]
  },
  {
   "cell_type": "code",
   "execution_count": 84,
   "metadata": {},
   "outputs": [
    {
     "name": "stdout",
     "output_type": "stream",
     "text": [
      "F1_score with Seach Grid Parameters: 0.5860927152317881\n",
      "Confusion matrix for Logistic Regression with Grid Seach Parameters\n",
      "     pred_neg  pred_pos\n",
      "neg      1000      1028\n",
      "pos       972      1416\n",
      "CPU times: user 172 ms, sys: 1.99 ms, total: 174 ms\n",
      "Wall time: 50.2 ms\n"
     ]
    }
   ],
   "source": [
    "%%time\n",
    "# Logistic evaluation on the Test data\n",
    "# Train the Grid Search Estimator using the whole scaled train data\n",
    "classifierEst2.fit(X_train_scaled2,y_train2)\n",
    "\n",
    "# Predict using the scaled test data.\n",
    "y_hat_lgs2 = classifierEst2.predict(X_test_scaled2)\n",
    "\n",
    "#Evaluat the scores for the logistic regresion\n",
    "conf_SearchGrid2 = mt.confusion_matrix(y_test2,y_hat_lgs2)\n",
    "acc_SearchGrid2 = mt.accuracy_score(y_test2,y_hat_lgs2)\n",
    "prec_SearchGrid2 = mt.precision_score(y_test2,y_hat_lgs2)\n",
    "f1_SearchGrid2 = mt.f1_score(y_test2,y_hat_lgs2)\n",
    "\n",
    "print (\"F1_score with Seach Grid Parameters:\", f1_SearchGrid2)\n",
    "print (\"Confusion matrix for Logistic Regression with Grid Seach Parameters\")\n",
    "print(pd.DataFrame(mt.confusion_matrix(y_test2,y_hat_lgs2),\n",
    "             columns=['pred_neg', 'pred_pos'], index=['neg', 'pos']))"
   ]
  },
  {
   "cell_type": "code",
   "execution_count": 85,
   "metadata": {},
   "outputs": [
    {
     "name": "stdout",
     "output_type": "stream",
     "text": [
      "[0.49309665 0.59296482]\n"
     ]
    },
    {
     "data": {
      "image/png": "[encoded data removed]",
      "text/plain": [
       "<Figure size 576x396 with 1 Axes>"
      ]
     },
     "metadata": {},
     "output_type": "display_data"
    }
   ],
   "source": [
    "#based on confusion matrix\n",
    "print(per_class_accuracy(y_test2,y_hat_lgs2))\n",
    "plot_class_acc(y_test2,y_hat_lgs2,\"Female\",title=\"Logistic Regression\")"
   ]
  },
  {
   "cell_type": "markdown",
   "metadata": {},
   "source": [
    "### ***K-Nearest Neighbor for Task2***\n",
    "\n",
    "- K-Nearest Neighbors is for the prediction of values based on training their nearest neighbors by a certain n_neighbors count in order to form classification models to predict the y_hat for the test set.\n",
    "\n",
    "\n",
    "- For the Task 2 KNN model, when n_neighbors is 11, the F1 metric is highest at 0.55 and Performance time 2.21s."
   ]
  },
  {
   "cell_type": "code",
   "execution_count": 86,
   "metadata": {},
   "outputs": [
    {
     "name": "stdout",
     "output_type": "stream",
     "text": [
      "Fitting 10 folds for each of 4 candidates, totalling 40 fits\n"
     ]
    },
    {
     "name": "stderr",
     "output_type": "stream",
     "text": [
      "[Parallel(n_jobs=-1)]: Done  40 out of  40 | elapsed:  1.4min finished\n"
     ]
    },
    {
     "name": "stdout",
     "output_type": "stream",
     "text": [
      "The best estimator based on F1 is  KNeighborsClassifier(algorithm='auto', leaf_size=30, metric='minkowski',\n",
      "           metric_params=None, n_jobs=1, n_neighbors=11, p=2,\n",
      "           weights='uniform')\n"
     ]
    }
   ],
   "source": [
    "knnEstimator2 = KNeighborsClassifier()\n",
    "cvl2 = cv_object\n",
    "\n",
    "parameters2 = {'n_neighbors': [3,5,7,11]}\n",
    "\n",
    "#Create a grid search object using the  \n",
    "knnGridSearch2 = GridSearchCV(estimator=knnEstimator2\n",
    "                    , n_jobs=-1 # Use available jobs to run in parallel\n",
    "                    , verbose=1 # low verbosity\n",
    "                    , param_grid=parameters2\n",
    "                    , cv=cvl2 # KFolds = 10\n",
    "                    , scoring='f1')\n",
    "\n",
    "knnGridSearch2.fit(X_train_scaled2, y_train2)  # use scaled train data\n",
    "print(\"The best estimator based on F1 is \", knnGridSearch2.best_estimator_)\n",
    "knn_clf2 = knnGridSearch2.best_estimator_"
   ]
  },
  {
   "cell_type": "code",
   "execution_count": 87,
   "metadata": {},
   "outputs": [
    {
     "name": "stdout",
     "output_type": "stream",
     "text": [
      "KNeighborsClassifier(algorithm='auto', leaf_size=30, metric='minkowski',\n",
      "           metric_params=None, n_jobs=1, n_neighbors=11, p=2,\n",
      "           weights='uniform')\n",
      "Accuracy 0.5187952898550725\n",
      "Confusion matrix:\n",
      "[[ 990 1038]\n",
      " [1087 1301]]\n",
      "f1_score: 0.550454833932727\n",
      "Precision: 0.55622060709705\n",
      "Recall: 0.5448073701842546\n",
      "CPU times: user 2.31 s, sys: 10.7 ms, total: 2.33 s\n",
      "Wall time: 2.33 s\n"
     ]
    }
   ],
   "source": [
    "%%time\n",
    "print(knn_clf2)\n",
    "\n",
    "clf2 = knn_clf2\n",
    "\n",
    "clf2.fit(X_train_scaled2,y_train2)      #used scaled train data\n",
    "yhat_knn2 = clf2.predict(X_test_scaled2)  #used scaled test data\n",
    "    \n",
    "total_accuracy2 = mt.accuracy_score(y_test2, yhat_knn2)\n",
    "print ('Accuracy', total_accuracy2)\n",
    "conf2 = mt.confusion_matrix(y_test2,yhat_knn2)\n",
    "print('Confusion matrix:')\n",
    "print(conf2)\n",
    "print('f1_score:', mt.f1_score(y_test2, yhat_knn2))\n",
    "print('Precision:', precision_score(y_test2, yhat_knn2))\n",
    "print('Recall:', recall_score(y_test2, yhat_knn2))"
   ]
  },
  {
   "cell_type": "code",
   "execution_count": 88,
   "metadata": {},
   "outputs": [
    {
     "name": "stdout",
     "output_type": "stream",
     "text": [
      "[0.48816568 0.54480737]\n"
     ]
    },
    {
     "data": {
      "image/png": "[encoded data removed]",
      "text/plain": [
       "<Figure size 576x396 with 1 Axes>"
      ]
     },
     "metadata": {},
     "output_type": "display_data"
    }
   ],
   "source": [
    "#based on confusion matrix\n",
    "print(per_class_accuracy(y_test2,yhat_knn2))\n",
    "plot_class_acc(y_test2,yhat_knn2,\"Female\",title=\"KNN\")"
   ]
  },
  {
   "cell_type": "markdown",
   "metadata": {},
   "source": [
    "### ***Random Forest for Task2***\n",
    "\n",
    "\n",
    "- Optimization results of F1 for different test values of \"max_depth\" are printed below. \n",
    "\n",
    "- Per the below \"max_depth\" results value list and the associated line graph, when max_depth is at 61, the F1 metric value starts to plateau at 0.4993.   \n",
    "- Performance time is 21.3s."
   ]
  },
  {
   "cell_type": "code",
   "execution_count": 97,
   "metadata": {
    "scrolled": true
   },
   "outputs": [
    {
     "name": "stdout",
     "output_type": "stream",
     "text": [
      "max_depth: 11 F1 score: 0.49833732357079347\n",
      "max_depth: 61 F1 score: 0.4993873720063267\n",
      "max_depth: 111 F1 score: 0.4993873720063267\n",
      "max_depth: 161 F1 score: 0.4993873720063267\n",
      "max_depth: 211 F1 score: 0.4993873720063267\n",
      "max_depth: 261 F1 score: 0.4993873720063267\n",
      "max_depth: 311 F1 score: 0.4993873720063267\n",
      "max_depth: 361 F1 score: 0.4993873720063267\n",
      "max_depth: 411 F1 score: 0.4993873720063267\n",
      "max_depth: 461 F1 score: 0.4993873720063267\n",
      "Average F1 score: 0.50 (+/- 0.00)\n",
      "Average Accuracy 0.5385124116687805\n",
      "Average Precision: 0.550148320215936\n",
      "Average Recall: 0.7943507093091581\n",
      "Confusion matrix:\n",
      "[[14393   297]\n",
      " [ 7059   327]]\n",
      "CPU times: user 22.5 s, sys: 121 ms, total: 22.6 s\n",
      "Wall time: 22.7 s\n"
     ]
    },
    {
     "data": {
      "image/png": "[encoded data removed]",
      "text/plain": [
       "<Figure size 576x396 with 1 Axes>"
      ]
     },
     "metadata": {},
     "output_type": "display_data"
    }
   ],
   "source": [
    "%%time\n",
    "#Not using GridSearch here\n",
    "result2 = []\n",
    "index2 = []\n",
    "f_one_scores2 = []\n",
    "accuracy_scores2 = []\n",
    "precision_scores2 = []\n",
    "recall_scores2 = []\n",
    " \n",
    "\n",
    "for max_depth2 in range(11, 501)[::50]:\n",
    "    yhat_r2 = np.zeros(y2.shape, dtype=int) # we will fill this with predictions\n",
    "    \n",
    "    skf2 = StratifiedShuffleSplit(n_splits=10, test_size=0.2, random_state=0)\n",
    "    for rf_train_index2, rf_test_index2 in skf2.split(X2, y2):\n",
    "        X_rf_train2, X_rf_test2 = X2[rf_train_index2], X2[rf_test_index2]\n",
    "        y_rf_train2, y_rf_test2 = y2[rf_train_index2], y2[rf_test_index2]\n",
    "        rclf2 = RandomForestClassifier(max_depth=max_depth2,random_state=0, n_estimators=40)\n",
    "        rclf2.fit(X_rf_train2, y_rf_train2)            \n",
    "        yhat_r2[rf_test_index2] = rclf2.predict(X_rf_test2)\n",
    "    f1_score2 = mt.f1_score(y2, yhat_r2, average=\"weighted\")\n",
    "    f_one_scores2.append(f1_score2)\n",
    "    print ('max_depth:', max_depth2, 'F1 score:', f1_score2)\n",
    "    accuracy2 = accuracy_score(y2, yhat_r2)\n",
    "    accuracy_scores2.append(accuracy2)\n",
    "    precision2 = mt.precision_score(y2, yhat_r2 )\n",
    "    precision_scores2.append(precision2)\n",
    "    recall2 = mt.recall_score(y2, yhat_r2 )\n",
    "    recall_scores2.append(recall2)\n",
    "    result2.append(f1_score2)\n",
    "    index2.append(max_depth2)\n",
    "\n",
    "\n",
    "f_one_scores2 = np.array(f_one_scores2)\n",
    "print(\"Average F1 score: %0.2f (+/- %0.2f)\" % (f_one_scores2.mean(), f_one_scores2.std() * 2))\n",
    "\n",
    "accuracy_scores2 = np.array(accuracy_scores2)\n",
    "print ('Average Accuracy', accuracy_scores2.mean())\n",
    "\n",
    "precision_scores2 = np.array(precision_scores2)\n",
    "print('Average Precision:', precision_scores2.mean())\n",
    "\n",
    "recall_scores2 = np.array(recall_scores2)\n",
    "print('Average Recall:', recall_scores2.mean())\n",
    "\n",
    "conf = mt.confusion_matrix(y,yhat_r )\n",
    "print('Confusion matrix:')\n",
    "print(conf)\n",
    "\n",
    "plt.title('F1 score for different max_depth')\n",
    "pd.Series(result2, index=pd.Index(index2, name='max_depth'), name='f1_score2').plot();"
   ]
  },
  {
   "cell_type": "markdown",
   "metadata": {},
   "source": [
    "<a id=\"#Modeling_and_Evaluation_4\"></a>\n",
    "\n",
    "<a href=\"#top\">Back to Top</a>\n",
    "\n",
    "### Modeling_and_Evaluation_4 \n"
   ]
  },
  {
   "cell_type": "markdown",
   "metadata": {},
   "source": [
    "\n",
    "### Modeling_and_Evaluation_4_Task1 \n",
    "\n",
    "Here we evaluate the three different classifiers for Task 1 and determine the model that we would like to use going forward.\n",
    "\n",
    "First, we look at the Accuracy metric for each model."
   ]
  },
  {
   "cell_type": "code",
   "execution_count": 90,
   "metadata": {},
   "outputs": [
    {
     "data": {
      "image/png": "[encoded data removed]",
      "text/plain": [
       "<Figure size 1080x360 with 1 Axes>"
      ]
     },
     "metadata": {},
     "output_type": "display_data"
    },
    {
     "name": "stdout",
     "output_type": "stream",
     "text": [
      "LGS overall Accuracy is  0.5808423913043478\n",
      "KNN overall Accuracy is  0.5226449275362319\n",
      "RF overall Accuracy is  0.6667874614966479\n"
     ]
    }
   ],
   "source": [
    "accur_lgs = mt.accuracy_score(y_test, y_hat_lgs)\n",
    "accur_knn = mt.accuracy_score(y_test, yhat_knn)\n",
    "accur_rf = mt.accuracy_score(y, yhat_r)\n",
    "x = np.arange(3)\n",
    "\n",
    "import seaborn as sns\n",
    "sns.set_palette(\"dark\")\n",
    "plt.figure(figsize=(15,5))\n",
    "plt.bar(x,[accur_lgs, accur_knn, accur_rf])\n",
    "plt.xticks(x, ('LGS', 'KNN', 'RF'))\n",
    "plt.ylim([0,1])\n",
    "plt.title('Comparison of Accuracy - Task 1')\n",
    "plt.show()\n",
    "\n",
    "print(\"LGS overall Accuracy is \", accur_lgs)\n",
    "print(\"KNN overall Accuracy is \", accur_knn)\n",
    "print(\"RF overall Accuracy is \", accur_rf)"
   ]
  },
  {
   "cell_type": "markdown",
   "metadata": {},
   "source": [
    "- Based on the above bar chart, we see that the model that achieved the highest Accuracy metric for Task 1 was the Random Forest Model. \n",
    "\n",
    "Next, let's check the F1 metric and compare it across the three Task 1 models."
   ]
  },
  {
   "cell_type": "code",
   "execution_count": 91,
   "metadata": {
    "scrolled": false
   },
   "outputs": [
    {
     "data": {
      "image/png": "[encoded data removed]",
      "text/plain": [
       "<Figure size 1080x360 with 1 Axes>"
      ]
     },
     "metadata": {},
     "output_type": "display_data"
    },
    {
     "name": "stdout",
     "output_type": "stream",
     "text": [
      "LGS F1 is  0.40348050273928454\n",
      "KNN F1 is  0.40249433106575966\n",
      "RF F1 is  0.5573105801991598\n"
     ]
    }
   ],
   "source": [
    "f1_lgs = mt.f1_score(y_test, y_hat_lgs)\n",
    "f1_knn = mt.f1_score(y_test, yhat_knn)\n",
    "f1_rf = mt.f1_score(y, yhat_r, average='weighted')\n",
    "x = np.arange(3)\n",
    "\n",
    "import seaborn as sns\n",
    "sns.set_palette(\"dark\")\n",
    "plt.figure(figsize=(15,5))\n",
    "plt.bar(x,[f1_lgs, f1_knn, f1_rf])\n",
    "plt.xticks(x, ('LGS', 'KNN', 'RF'))\n",
    "plt.ylim([0,1])\n",
    "plt.title('Comparison of F1 Scores - Task 1')\n",
    "plt.show()\n",
    "\n",
    "print(\"LGS F1 is \", f1_lgs)\n",
    "print(\"KNN F1 is \", f1_knn)\n",
    "print(\"RF F1 is \", f1_rf)"
   ]
  },
  {
   "cell_type": "markdown",
   "metadata": {},
   "source": [
    "As shown in the above bar chart, the Task 1 Random Forest Model has highest F1 metric value of 0.557 and was the best performing model of the three Task 1 models. \n",
    "The Random Forest model is still preferred, even though it was the slowest of the three Task 1 models."
   ]
  },
  {
   "cell_type": "markdown",
   "metadata": {},
   "source": [
    "- Interpretation - The Random Forest Model provided the highest overall Accuracy as well as the highest F1 metric value. \n",
    "- The primary statistic we will evaluate our model on, as stated earlier, is F1. This is because it focuses on the % of positive cases modeled correctly and the % of positive predictions which are correct. This is consistent with the assumed business/client objectives.\n",
    "\n",
    "    - In terms of F1, the best model to predict Default is the Random Forest.\n",
    "\n",
    "    - In general, in terms of F1, Precision and Accuracy metrics, Random Forest performed best. \n",
    "    - In general, KNN is behind the other models, with the exception of Recall which it scored highes ton, and the Random Forest model scored lowest.\n",
    "\n",
    "- While ROC Curves and Precision/Recall curves would normally be interesting in evaluating and comparing models, they are not particularly relevant here because not all models are \"score-Based\".\n",
    "\n",
    "- With Random Forest selected as the best of the three models here for Task 1, the next best model for Task 1 is the Logistic Regression model.\n"
   ]
  },
  {
   "cell_type": "markdown",
   "metadata": {},
   "source": [
    "\n",
    "<a id=\"#Modeling_and_Evaluation_4_Task2\"></a>\n",
    "\n",
    "<a href=\"#top\">Back to Top</a>\n",
    "### Modeling_and_Evaluation_4_Task2 \n",
    "Here we evaluate the three different classifiers for Task 2 and determine the model that we would like to use going forward.\n",
    "\n",
    "First, we look at the Accuracy metric for each Task2 model."
   ]
  },
  {
   "cell_type": "code",
   "execution_count": 92,
   "metadata": {},
   "outputs": [
    {
     "data": {
      "image/png": "[encoded data removed]",
      "text/plain": [
       "<Figure size 1080x360 with 1 Axes>"
      ]
     },
     "metadata": {},
     "output_type": "display_data"
    },
    {
     "name": "stdout",
     "output_type": "stream",
     "text": [
      "LGS overall accuracy is  0.5471014492753623\n",
      "KNN overall accuracy is  0.5187952898550725\n",
      "RF overall accuracy is  0.538503352056532\n"
     ]
    }
   ],
   "source": [
    "# TASK 2\n",
    "accur_lgs2 = mt.accuracy_score(y_test2, y_hat_lgs2)\n",
    "accur_knn2 = mt.accuracy_score(y_test2, yhat_knn2)\n",
    "accur_rf2 = mt.accuracy_score(y2, yhat_r2)\n",
    "x2 = np.arange(3)\n",
    "\n",
    "import seaborn as sns\n",
    "sns.set_palette(\"dark\")\n",
    "plt.figure(figsize=(15,5))\n",
    "plt.bar(x2,[accur_lgs2, accur_knn2, accur_rf2])\n",
    "plt.xticks(x2, ('LGS', 'KNN', 'RF'))\n",
    "plt.ylim([0,1])\n",
    "plt.title('Comparison of Accuracy - Task 2')\n",
    "plt.show()\n",
    "\n",
    "print(\"LGS overall accuracy is \", accur_lgs2)\n",
    "print(\"KNN overall accuracy is \", accur_knn2)\n",
    "print(\"RF overall accuracy is \", accur_rf2)"
   ]
  },
  {
   "cell_type": "markdown",
   "metadata": {},
   "source": [
    "- Based on the above bar chart, we see that the model that achieved the highest Accuracy metric for Task 2 was the Random Forest Model.\n",
    "- The Random Forest Accuracy for Task 2 was also very close to that of the Logistic Regression Model for Task 2.\n",
    "\n",
    "Next, let's check the F1 metric and compare it across the three Task 2 models."
   ]
  },
  {
   "cell_type": "code",
   "execution_count": 93,
   "metadata": {
    "scrolled": false
   },
   "outputs": [
    {
     "data": {
      "image/png": "[encoded data removed]",
      "text/plain": [
       "<Figure size 1080x360 with 1 Axes>"
      ]
     },
     "metadata": {},
     "output_type": "display_data"
    },
    {
     "name": "stdout",
     "output_type": "stream",
     "text": [
      "LGS F1 is  0.5860927152317881\n",
      "KNN F1 is  0.550454833932727\n",
      "RF F1 is  0.6499690785405071\n"
     ]
    }
   ],
   "source": [
    "# TASK 2\n",
    "f1_lgs2 = mt.f1_score(y_test2, y_hat_lgs2)\n",
    "f1_knn2 = mt.f1_score(y_test2, yhat_knn2)\n",
    "f1_rf2 = mt.f1_score(y2, yhat_r2)\n",
    "x3 = np.arange(3)\n",
    "\n",
    "import seaborn as sns\n",
    "sns.set_palette(\"dark\")\n",
    "plt.figure(figsize=(15,5))\n",
    "plt.bar(x3,[f1_lgs2, f1_knn2, f1_rf2])\n",
    "plt.xticks(x3, ('LGS', 'KNN', 'RF'))\n",
    "plt.ylim([0,1])\n",
    "plt.title('Comparison of F1 Scores - Task 2')\n",
    "plt.show()\n",
    "\n",
    "print(\"LGS F1 is \", f1_lgs2)\n",
    "print(\"KNN F1 is \", f1_knn2)\n",
    "print(\"RF F1 is \", f1_rf2)"
   ]
  },
  {
   "cell_type": "markdown",
   "metadata": {},
   "source": [
    "\n",
    "- Per the above bar charts, the Random Forest model has both the highest Accuracy and F1 metric score. \n",
    "- Random Forest is selected as the best of the three models for Task2, and is still preferred, even though it was the slowest of the three Task 2 models.\n",
    "- While the Performance time is not the best it is still better than that of the Logistic Regression model.  (revisit performance time.)\n",
    "\n",
    "- With Random Forest selected as the best of the three models here for Task 2, the next best model for Task 2 is the Logistic Regression model."
   ]
  },
  {
   "cell_type": "markdown",
   "metadata": {},
   "source": [
    "### Task 1 and Task 2 Models:   Mean Accuracy and Standard Deviation\n",
    "\n",
    "\n",
    "\n",
    "- *** Credit:  The EvaluateClassifierEstimator function from Dr. Drew's NC Education project GitHub has been modified so as to output Accuracy, Precision, and Recall. We'll use these parameters to evaluate the effectiveness of our model.*\n",
    "\n",
    "\n",
    "Next, let's look at comparing the models within each Task with respect to Mean Accuracy and Standard Deviation."
   ]
  },
  {
   "cell_type": "code",
   "execution_count": 94,
   "metadata": {},
   "outputs": [],
   "source": [
    "# prepare for algorithm comparisons within each Task\n",
    "\n",
    "## Credit To: https://machinelearningmastery.com/compare-machine-learning-algorithms-python-scikit-learn/\n",
    "# Compare Algorithms\n",
    "import pandas\n",
    "\n",
    "# ***********MODELS FUNCTION*************\n",
    "# evaluate each model in turn\n",
    "def Results_analysis(fmodels, fscoring, fX, fy):\n",
    "    results = []\n",
    "    names = []\n",
    "    #scoring = 'accuracy'\n",
    "    for name, model in fmodels:\n",
    "        if (fscoring == 'accuracy'):\n",
    "            #skf = StratifiedKFold(n_splits=10, random_state=seed)\n",
    "            skf = StratifiedShuffleSplit(n_splits=10, random_state=seed)\n",
    "        else:\n",
    "            skf = 10\n",
    "        cv_results = model_selection.cross_val_score(model, fX, fy, cv=skf, scoring=fscoring)\n",
    "        results.append(cv_results)\n",
    "        names.append(name)\n",
    "        msg = \"%s: %f (%f)\" % (name, cv_results.mean(), cv_results.std())\n",
    "        print(msg)\n",
    "    # boxplot algorithm comparison\n",
    "    fig = plt.figure()\n",
    "    fig.suptitle('Algorithm Comparison')\n",
    "    sns.boxplot(x=names, y=results, palette=\"Set1\")\n",
    "    plt.show()\n",
    "    \n",
    "    return [names, results]"
   ]
  },
  {
   "cell_type": "markdown",
   "metadata": {},
   "source": [
    "### Models in Task 1 - Is Felonies\n",
    "- Per the box chart below, based on the Mean Accuracy and Standard Deviation, the Random Forest Classifier and Logistic Regression were the best performing models for Task1."
   ]
  },
  {
   "cell_type": "code",
   "execution_count": 95,
   "metadata": {},
   "outputs": [
    {
     "name": "stdout",
     "output_type": "stream",
     "text": [
      "KNN: 0.632971 (0.019373)\n",
      "RF: 0.666304 (0.003163)\n",
      "LGS_RGR: 0.666168 (0.001828)\n"
     ]
    },
    {
     "data": {
      "image/png": "[encoded data removed]",
      "text/plain": [
       "<Figure size 576x396 with 1 Axes>"
      ]
     },
     "metadata": {},
     "output_type": "display_data"
    }
   ],
   "source": [
    "## Credit To: https://machinelearningmastery.com/compare-machine-learning-algorithms-python-scikit-learn/\n",
    "\n",
    "seed = 7\n",
    "# prepare models\n",
    "class_models = []\n",
    "class_models.append(('KNN', KNeighborsClassifier(algorithm='auto', leaf_size=30, metric='minkowski',\n",
    "                                                 metric_params=None, n_jobs=1, n_neighbors=13, p=2,weights='distance')))\n",
    "\n",
    "class_models.append(('RF', RandomForestClassifier(n_estimators=600, max_depth=None, min_samples_split=2, \n",
    "                                                  random_state=0,  n_jobs=-1)))\n",
    "\n",
    "\n",
    "class_models.append(('LGS_RGR', LogisticRegression()))\n",
    "\n",
    "\n",
    "classModelResults = Results_analysis(class_models, 'accuracy', X, y)"
   ]
  },
  {
   "cell_type": "markdown",
   "metadata": {},
   "source": [
    "### Models in Task2 - Is Female\n",
    "- Per the box plot below, based on the Mean Accuracy and Standard Deviation, the Random Forest Classifier and Logistic Regression were the best performing models for Task 2."
   ]
  },
  {
   "cell_type": "code",
   "execution_count": 96,
   "metadata": {},
   "outputs": [
    {
     "name": "stdout",
     "output_type": "stream",
     "text": [
      "KNN: 0.513632 (0.018516)\n",
      "RF: 0.546603 (0.005748)\n",
      "LGS_RGR: 0.549094 (0.007622)\n"
     ]
    },
    {
     "data": {
      "image/png": "[encoded data removed]",
      "text/plain": [
       "<Figure size 576x396 with 1 Axes>"
      ]
     },
     "metadata": {},
     "output_type": "display_data"
    }
   ],
   "source": [
    "## Credit To: https://machinelearningmastery.com/compare-machine-learning-algorithms-python-scikit-learn/\n",
    "seed = 7\n",
    "# prepare models\n",
    "class_models_R = []\n",
    "\n",
    "class_models_R.append(('KNN', KNeighborsClassifier(algorithm='auto', leaf_size=30, metric='minkowski',\n",
    "                                                   metric_params=None, n_jobs=1, n_neighbors=13, p=2,weights='distance')))\n",
    "\n",
    "class_models_R.append(('RF', RandomForestClassifier(n_estimators=600, max_depth=None, min_samples_split=2, \n",
    "                                                    random_state=0,  n_jobs=-1)))\n",
    "\n",
    "\n",
    "class_models_R.append(('LGS_RGR', LogisticRegression()))\n",
    "\n",
    "\n",
    "classModelResults_R = Results_analysis(class_models_R, 'accuracy', X2, y2)"
   ]
  },
  {
   "cell_type": "markdown",
   "metadata": {},
   "source": [
    "<a id=\"#Modeling_and_Evaluation_5\"></a>\n",
    "\n",
    "<a href=\"#top\">Back to Top</a>\n",
    "\n",
    "### Modeling_and_Evaluation_5"
   ]
  },
  {
   "cell_type": "markdown",
   "metadata": {},
   "source": [
    "### Model Advantages\n",
    "\n",
    "\n",
    "**KNN**\n",
    "\n",
    "- KNN is a simple algorithm that predicts unknown data points based on its K nearest neighbors which makes the results easier to interpret.\n",
    "- Does not make any assumptions on the underlying data distribution which means you don’t have to worry about violating assumptions that other statistical methods depend on.\n",
    "- Uses distance function to classify new data point which could easily be calculated by hand if necessary\n",
    "- It is a non-parametric method which means it can be used on data that is not normally distributed.\n",
    "\n",
    "**Random Forest**\n",
    "\n",
    "- Popular ensemble method to build predictive models for both classification and regression.\n",
    "- Simple but intuitive models that utilize a top-down approach in which the root node creates a binary split until a certain criteria is met.\n",
    "- Each tree tries to estimate a classification, known as \"vote\".\n",
    "- We consider each vote from every tree and choose the most voted classification.\n",
    "\n",
    "**Logistic Regression**\n",
    "- For maximizing the probability of the data, logistic regression models are generally good. The accuracy of model is acheived at its best in these type of models when data points are distictly separated far away from hyperplane.\n",
    "- RFE (Recursive Feature Elimination) model chooses the peformance of feature and repeats process until all attibutes are analyzed.\n",
    "- This is more probablistic model.\n",
    "\n",
    "\n",
    "**Overall Assessment**\n",
    "- A key advantage of Random Forest is that by averaging multiple trees, it reduces overfitting, reduces variance from outliers, and as a result produces better accuracy than Logistic Regression and KNN.\n",
    "\n",
    "\n"
   ]
  },
  {
   "cell_type": "code",
   "execution_count": 98,
   "metadata": {},
   "outputs": [],
   "source": [
    "# credit: https://machinelearningmastery.com/compare-machine-learning-algorithms-python-scikit-learn/\n",
    "# credit: https://stackoverflow.com/questions/5389507/iterating-over-every-two-elements-in-a-list\n",
    "#from math import sqrt\n",
    "#from scipy import stats\n",
    "# Iterate Pairwise through models and calculate CI\n",
    "\n",
    "# IS FELONIES model summary CI function\n",
    "def modelCiComp(modelResults):\n",
    "    for i in range(len(classModelResults[0])):\n",
    "        for j in range(i+1, len(classModelResults[1])):\n",
    "            m1Acc = classModelResults[1][i]\n",
    "            m2Acc = classModelResults[1][j]\n",
    "            d = m1Acc - m2Acc\n",
    "            dBar = np.mean(d)\n",
    "            v = np.var(d)\n",
    "            ci = (1/sqrt(len(m1Acc)))*stats.t.ppf(q = .975, df = len(m1Acc) - 1)*sqrt(v)\n",
    "            ci = \"[\" + str(round(dBar - ci, 5)) + \", \" + str(round(dBar + ci, 5)) + \"]\"\n",
    "            print(\"95% CI for\", classModelResults[0][i], \"vs\", classModelResults[0][j], \"=\", ci)\n",
    "            \n",
    "# IS FEMALE model summary CI function            \n",
    "def modelCiComp_1(modelResults):\n",
    "    for i in range(len(classModelResults_R[0])):\n",
    "        for j in range(i+1, len(classModelResults_R[1])):\n",
    "            m1Acc = classModelResults_R[1][i]\n",
    "            m2Acc = classModelResults_R[1][j]\n",
    "            d = m1Acc - m2Acc\n",
    "            dBar = np.mean(d)\n",
    "            v = np.var(d)\n",
    "            ci = (1/sqrt(len(m1Acc)))*stats.t.ppf(q = .975, df = len(m1Acc) - 1)*sqrt(v)\n",
    "            ci = \"[\" + str(round(dBar - ci, 5)) + \", \" + str(round(dBar + ci, 5)) + \"]\"\n",
    "            print(\"95% CI for\", classModelResults_R[0][i], \"vs\", classModelResults_R[0][j], \"=\", ci)"
   ]
  },
  {
   "cell_type": "markdown",
   "metadata": {},
   "source": [
    "- ***In comparision with algorithms we used for classification, RandomForest algorithm models outperformed other models. This is clearly represented by accuracy of models, the pairwise comparision with 95% confidence interval of accuracy of models is performed below.***"
   ]
  },
  {
   "cell_type": "code",
   "execution_count": 99,
   "metadata": {},
   "outputs": [
    {
     "name": "stdout",
     "output_type": "stream",
     "text": [
      "95% CI for KNN vs RF = [-0.04591, -0.02076]\n",
      "95% CI for KNN vs LGS_RGR = [-0.04631, -0.02008]\n",
      "95% CI for RF vs LGS_RGR = [-0.00129, 0.00156]\n"
     ]
    }
   ],
   "source": [
    "#Felonies Task1\n",
    "modelCiComp(classModelResults)"
   ]
  },
  {
   "cell_type": "markdown",
   "metadata": {},
   "source": [
    "- ***The accuracy of RandomForest and Logistic Regression Models are statistically different as compared with k-NN model. Both RandomForest vs Logistic Regression includes zero in its 95% CI, indicating that these algorithms perform equally and are statistically comparable (i.e. we cannot conclude these two models are statistically different).***"
   ]
  },
  {
   "cell_type": "code",
   "execution_count": 100,
   "metadata": {},
   "outputs": [
    {
     "name": "stdout",
     "output_type": "stream",
     "text": [
      "95% CI for KNN vs RF = [-0.04675, -0.01919]\n",
      "95% CI for KNN vs LGS_RGR = [-0.05055, -0.02038]\n",
      "95% CI for RF vs LGS_RGR = [-0.0064, 0.00142]\n"
     ]
    }
   ],
   "source": [
    "#Females Task2\n",
    "modelCiComp_1(classModelResults_R)"
   ]
  },
  {
   "cell_type": "markdown",
   "metadata": {},
   "source": [
    "- ***For Models in Task2 as well, Random Forest and Logistic Regression performed well also. The 95% CI of RandomForest vs Logistic Regression includes zero which indicates that these two models were statistically comparable. (i.e. we cannot conclude these two models are statistically different).******\n",
    "\n",
    "***Overall, RandomForest algorithm seems to outperform other algorithms for classification tasks. Theoretically, RandomForest algorithm are based on bagging methods as variables are selected per tree. The feature importance is based on probablity distribution and less dependent on hyperparameterization. This also presents with unique advantage for easy interpretation of results.***"
   ]
  },
  {
   "cell_type": "markdown",
   "metadata": {},
   "source": [
    "<a id=\"#Modeling_and_Evaluation_6\"></a>\n",
    "\n",
    "<a href=\"#top\">Back to Top</a>\n",
    "\n",
    "### Modeling_and_Evaluation_6"
   ]
  },
  {
   "cell_type": "markdown",
   "metadata": {},
   "source": [
    "#### Feature Importance for Task 1 \n",
    "Utilizing Random Forest, which was the best performing model of the three for Task 1, the feature importance for predicting whether a crime is a Felony was explored below."
   ]
  },
  {
   "cell_type": "code",
   "execution_count": 104,
   "metadata": {
    "scrolled": true
   },
   "outputs": [
    {
     "data": {
      "image/png": "[encoded data removed]",
      "text/plain": [
       "<Figure size 576x396 with 1 Axes>"
      ]
     },
     "metadata": {},
     "output_type": "display_data"
    }
   ],
   "source": [
    "#TASK 1\n",
    "import matplotlib.pyplot as plt \n",
    "from sklearn.ensemble import RandomForestClassifier \n",
    "from yellowbrick.features.importances import FeatureImportances\n",
    "\n",
    "data = Task1Features # as defined in the last step of Task 1\n",
    "\n",
    "#features.info()\n",
    "\n",
    "wanted_features = [\"month_1\",\"month_10\",\"month_11\",\"month_12\",\"month_2\",\"month_3\",\"month_4\",\"month_5\",\"month_6\",\"month_7\",\"month_8\",\"month_9\",\"after_noon\",\"before_noon\",\"evening\",\"night\",\"BRONX\", \"BROOKLYN\",\"MANHATTAN\",\"QUEENS\",\"STATEN ISLAND\"]\n",
    "\n",
    "#Extract the instances and target\n",
    "X = data[wanted_features]\n",
    "y = data.IsFelony\n",
    "\n",
    "my_title = \"Task 1 Feature Importance - isFelony\"\n",
    "\n",
    "# Create a new matplotlib figure\n",
    "fig = plt.figure()\n",
    "ax = fig.add_subplot()\n",
    "viz = FeatureImportances(RandomForestClassifier(), ax=ax, title=my_title)\n",
    "viz.fit(X, y)\n",
    "viz.poof()"
   ]
  },
  {
   "cell_type": "markdown",
   "metadata": {},
   "source": [
    "Regarding Task 1 Feature Importance:\n",
    "- The most important feature of our Task 1 Random Forest model for predicting the severity of crime as Felony or non-Felony, is the month of the year. \n",
    "- Specifically, the month of December (month_12) seems to be the most important feature followed by the night time of day and the boroughs of the Bronx and Staten Island. \n",
    "- The fact that December ended up as the most important attribute was an unexpected result.  Whether this could be attributed to a slight increase in the number of felonies occurring in December would need to be investigated.  “Relative importance” is relative.  While December is significantly more important mathematically for this model and this particular dataset, further investigation is warranted to determine if that result remains consistent across other models and datasets. \n",
    "- It’s no surprise that time of day and geographic-related location are potentially important features.  Certain kinds of crime are, by their nature, more severe and certain kinds of crime seems to happen more frequently in certain geographic areas and at certain times of the day.  \n"
   ]
  },
  {
   "cell_type": "markdown",
   "metadata": {},
   "source": [
    "#### Feature Importance for Task 2 \n",
    "Utilizing Random Forest, which was the best performing model of the three for Task 2, the feature importance for predicting whether a crime victim is a Female was explored below."
   ]
  },
  {
   "cell_type": "code",
   "execution_count": 103,
   "metadata": {
    "scrolled": false
   },
   "outputs": [
    {
     "data": {
      "image/png": "[encoded data removed]",
      "text/plain": [
       "<Figure size 576x396 with 1 Axes>"
      ]
     },
     "metadata": {},
     "output_type": "display_data"
    }
   ],
   "source": [
    "#TASK 2\n",
    "#import matplotlib.pyplot as pltfrom sklearn.ensemble \n",
    "#import RandomForestClassifierfrom yellowbrick.features.importances\n",
    "#import FeatureImportances\n",
    "data2 = Task2Features # as defined in the last step of Task 2\n",
    "wanted_features = [\"month_1\",\"month_10\",\"month_11\",\"month_12\",\"month_2\",\"month_3\",\"month_4\",\"month_5\",\"month_6\",\"month_7\",\"month_8\",\"month_9\",\"after_noon\",\"before_noon\",\"evening\",\"night\",\"BRONX\", \"BROOKLYN\",\"MANHATTAN\",\"QUEENS\",\"STATEN ISLAND\"]\n",
    "\n",
    "# Extract the instances and target\n",
    "X = data2[wanted_features]\n",
    "y = data2.IsFemale\n",
    "\n",
    "my_title = \"Task 2 Feature Importance - isFemale\"\n",
    "\n",
    "\n",
    "# Create a new matplotlib figure\n",
    "fig = plt.figure()\n",
    "ax = fig.add_subplot()\n",
    "viz = FeatureImportances(RandomForestClassifier(), ax=ax, title=my_title)\n",
    "viz.fit(X, y)\n",
    "viz.poof()"
   ]
  },
  {
   "cell_type": "code",
   "execution_count": null,
   "metadata": {},
   "outputs": [],
   "source": []
  },
  {
   "cell_type": "markdown",
   "metadata": {},
   "source": [
    "Regarding Task 2 Feature Importance:\n",
    "\n",
    "- The two most important attributes for our Task 2 Random Forest model predicting if a crime victim is female are related to the time of day.\n",
    "- Specfically, night and before_noon are the only attributes who have a relative importance well above 40.\n",
    "- Both of these make some intuitive sense.  \n",
    "- Women have been cautioned about being alone after dark, paying close attention to their surroundings, walking with a flashlight or keys in hand.  It seems that anecdotal evidence agrees that “night” is strongly correlated with the criminal victimization of women.  \n",
    "- Likewise, “before_noon” could easily mean dawn or before sunrise which is effectively “night” from a visibility perspective. \n"
   ]
  },
  {
   "cell_type": "markdown",
   "metadata": {},
   "source": [
    "<a id=\"#Deployment\"></a>\n",
    "\n",
    "<a href=\"#top\">Back to Top</a>\n",
    "\n",
    "### Deployment\n",
    "\n",
    "A variety of professionals, companies, and organizations would be interested in the classification and prediction models we have created.  Any entity interested in crime in general, the severity of crimes, or the demographics of crime victims could find uses for models capable of predicting outcomes.  In addition, our models could be modified to successfully classify or predict other categories of crime-related data. \n",
    "\n",
    "These models' degree of usefulness depends on context. For example, predicting the severity of a crime isn’t particularly useful once a crime has already been committed.  However, if a law enforcement agency is considering two different crime reduction programs, they could use our model as part of the evaluation process to determine the extent to which one program could result in less severe crimes compared to the other program.  The same could be said if the law enforcement agency wanted to reduce crimes against certain demographic groups.  Our model could help explain changes that law enforcement might expect to see. Civic and human rights organizations might also utilize our model as a tool in aiding research or policy paper development. \n",
    "\n",
    "Measuring the value of a model in the real world differs from measuring the model in a classroom.  The value of models like ours to organizations rests in the models' ability to provide information that was previously unavailable or provide information more quickly or at a lower cost to an alternative method.  Another metric might simply be whether or not the model facilitates the organization's goals. In the first case, the value could be measured directly by surveying the users and asking the question:  what would it cost you in time and resources to arrive at these answers using other methods?  Or this question: what advantages do these models provide your organization and what would the impact be if you couldn’t use these models. \n",
    "\n",
    "The best way to deploy these models would be either a client/server model for on-premises deployments (a police department) or a software-as-a-service model (for civic and other organizations).  Users could upload their data and receive predictions and classifications.  Far fewer people understand prediction and classification algorithms than can benefit from their use.  Therefore, packaging the algorithms in easy-to-use software and giving them an intuitive interface will make it easier for people to use the models for their intended purposes. \n",
    "\n",
    "Models can only be as good as the data used to build them.  As is the case with most models, ours could likely be improved or adjusted to provide different performance characteristics.  In terms of additional data for our models, it depends on the objectives of the users.  If the objective is to understand more about the perpetrators or victims of crime, additional demographic information related to suspects and victims could be useful.  If the objective is to understand more about the geography of crime, additional data about the locations where crime occurs could be useful.  It becomes evident that the time to update a model has arrived when the model no longer performs according to specification.  In other words, when the accuracy of the model begins to drop and the model underperforms over time, the model should probably be updated. Crime is cyclical, local, and personal.  The model should be revisited at least annually and perhaps as often as quarterly.  In addition, the model should be re-evaluated any time there are significant shifts in socioeconomic conditions.  For example, if a factory that employs 18% of the population shuts down, it might be a good idea to update any models that could in any way impacted by unemployment rates or other economic considerations."
   ]
  },
  {
   "cell_type": "markdown",
   "metadata": {},
   "source": [
    "<a id=\"#Exceptional_Work\"></a>\n",
    "\n",
    "<a href=\"#top\">Back to Top</a>\n",
    "\n",
    "### Exceptional_Work\n"
   ]
  },
  {
   "cell_type": "markdown",
   "metadata": {},
   "source": [
    "In a perfect world, datasets used for making predictive models would be randomly sampled, have balanced classes, and have unskewed distribution.  Alas, the world is not perfect.  Most data collected will have some level of bias, class imbalance, and skewness.  Our data was no exception.  \n",
    "\n",
    "For our first prediction task, the majority of the data was of the class we were trying to predict.  Having a class imbalance in the response variable most certainly impacts the model.  We haven’t mastered the techniques for dealing with unbalanced data, but we did a brief exploration to better understand how our model might be improved with advanced data handling techniques.\n",
    "We used the imbalanced-learn python package to conduct a “what if” experiment.  That is, could we reasonably expect different/better results if we had a more balanced data set.  The imbalanced-learn package utilizes a process called the Synthetic Minority Oversample Technique or SMOTE.  SMOTE, as the name suggests, is a technique which synthetically oversamples the minority class in a dataset in order to improve balance.  \n",
    "\n",
    "In our case, SMOTE synthesized additional “non-felony” observations in order to balance out the number of real “is-felony” records in our dataset. The results suggest that in the case of Task 1, predicting whether or not a crime is a felony, we might be able to get different results if we were to base our model on a more balanced dataset.  One approach to attaining a more balanced dataset would be to intentionally employ a less random approach when sampling incidents of reported crime.  In other words, select equal numbers of observations from each class of the response variable for the purposes of building a better model. This is something we will investigate further as a way to improve our models."
   ]
  },
  {
   "cell_type": "code",
   "execution_count": 105,
   "metadata": {},
   "outputs": [],
   "source": [
    "from sklearn.svm import LinearSVC\n",
    "from sklearn.model_selection import train_test_split\n",
    "\n",
    "from imblearn import over_sampling as os\n",
    "from imblearn import pipeline as pl\n",
    "from imblearn.metrics import (geometric_mean_score,\n",
    "                              make_index_balanced_accuracy)"
   ]
  },
  {
   "cell_type": "code",
   "execution_count": 106,
   "metadata": {},
   "outputs": [],
   "source": [
    "RANDOM_STATE = 42\n"
   ]
  },
  {
   "cell_type": "code",
   "execution_count": 109,
   "metadata": {},
   "outputs": [],
   "source": [
    "# Split the data\n",
    "pipeline = pl.make_pipeline(os.SMOTE(random_state=RANDOM_STATE),\n",
    "                            LinearSVC(random_state=RANDOM_STATE))\n",
    "\n",
    "data2 = features.join(labels) # as defined in the last step of Task 2\n",
    "wanted_features = [\"month_1\",\"month_10\",\"month_11\",\"month_12\",\"month_2\",\"month_3\",\"month_4\",\"month_5\",\"month_6\",\"month_7\",\"month_8\",\"month_9\",\"after_noon\",\"before_noon\",\"evening\",\"night\",\"BRONX\",\"BROOKLYN\",\"MANHATTAN\",\"QUEENS\",\"STATEN ISLAND\"]\n",
    "\n",
    "# Extract the instances and target\n",
    "X = data2[wanted_features]\n",
    "y = data2.IsFelony\n",
    "X_train, X_test, y_train, y_test = train_test_split(X, y,\n",
    "                                                    random_state=RANDOM_STATE)\n",
    "\n",
    "# Train the classifier with balancing\n",
    "pipeline.fit(X_train, y_train)\n",
    "\n",
    "# Test the classifier and get the prediction\n",
    "y_pred_bal = pipeline.predict(X_test)"
   ]
  },
  {
   "cell_type": "code",
   "execution_count": 110,
   "metadata": {},
   "outputs": [],
   "source": [
    "mysvc = LinearSVC()\n",
    "# Train the classifier with conventional sklearning\n",
    "mysvc.fit(X_train, y_train)\n",
    "\n",
    "# Test the classifier and get the prediction\n",
    "y_pred_svc = mysvc.predict(X_test)"
   ]
  },
  {
   "cell_type": "code",
   "execution_count": 111,
   "metadata": {},
   "outputs": [
    {
     "name": "stdout",
     "output_type": "stream",
     "text": [
      "             precision    recall  f1-score   support\n",
      "\n",
      "          0       0.69      0.71      0.70      3664\n",
      "          1       0.39      0.38      0.39      1855\n",
      "\n",
      "avg / total       0.59      0.60      0.59      5519\n",
      "\n"
     ]
    }
   ],
   "source": [
    "from sklearn.metrics import classification_report\n",
    "print(classification_report(y_test, y_pred_bal))"
   ]
  },
  {
   "cell_type": "code",
   "execution_count": 112,
   "metadata": {},
   "outputs": [
    {
     "name": "stdout",
     "output_type": "stream",
     "text": [
      "             precision    recall  f1-score   support\n",
      "\n",
      "          0       0.67      0.98      0.80      3664\n",
      "          1       0.54      0.04      0.08      1855\n",
      "\n",
      "avg / total       0.63      0.67      0.56      5519\n",
      "\n"
     ]
    }
   ],
   "source": [
    "print(classification_report(y_test, y_pred_svc))"
   ]
  },
  {
   "cell_type": "markdown",
   "metadata": {},
   "source": [
    "The weighted average f1 score is 0.59 with balanced learning and the weighted average f1 score is 0.56 with conventional sklearning."
   ]
  },
  {
   "cell_type": "markdown",
   "metadata": {},
   "source": [
    "<a id=\"#References\"></a>\n",
    "\n",
    "<a href=\"#top\">Back to Top</a>\n",
    "\n",
    "### References\n",
    "\n"
   ]
  },
  {
   "cell_type": "markdown",
   "metadata": {},
   "source": [
    "- https://machinelearningmastery.com/compare-machine-learning-algorithms-python-scikit-learn/\n",
    "- https://stackoverflow.com/questions/5389507/iterating-over-every-two-elements-in-a-list\n",
    "- The EvaluateClassifierEstimator function from Dr. Drew's NC Education project GitHub has been modified so as to output Accuracy, Precision, and Recall. We used these parameters to evaluate model effectiveness.\n",
    "- Exceptional work: http://imbalanced-learn.org/en/stable/"
   ]
  }
 ],
 "metadata": {
  "celltoolbar": "Raw Cell Format",
  "kernelspec": {
   "display_name": "Python 3",
   "language": "python",
   "name": "python3"
  },
  "language_info": {
   "codemirror_mode": {
    "name": "ipython",
    "version": 3
   },
   "file_extension": ".py",
   "mimetype": "text/x-python",
   "name": "python",
   "nbconvert_exporter": "python",
   "pygments_lexer": "ipython3",
   "version": "3.6.7"
  }
 },
 "nbformat": 4,
 "nbformat_minor": 2
}
